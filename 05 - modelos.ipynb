{
  "nbformat": 4,
  "nbformat_minor": 0,
  "metadata": {
    "colab": {
      "provenance": [],
      "collapsed_sections": [
        "8Cjd7LJcANDJ"
      ],
      "authorship_tag": "ABX9TyM7jXlmWr+54TJqnR8/h/kl",
      "include_colab_link": true
    },
    "kernelspec": {
      "name": "python3",
      "display_name": "Python 3"
    },
    "language_info": {
      "name": "python"
    },
    "widgets": {
      "application/vnd.jupyter.widget-state+json": {
        "aeb23ced712b4a379471f38945c64ca5": {
          "model_module": "@jupyter-widgets/controls",
          "model_name": "HBoxModel",
          "model_module_version": "1.5.0",
          "state": {
            "_dom_classes": [],
            "_model_module": "@jupyter-widgets/controls",
            "_model_module_version": "1.5.0",
            "_model_name": "HBoxModel",
            "_view_count": null,
            "_view_module": "@jupyter-widgets/controls",
            "_view_module_version": "1.5.0",
            "_view_name": "HBoxView",
            "box_style": "",
            "children": [
              "IPY_MODEL_39ce6f5b14594247b05072a706f4aa00",
              "IPY_MODEL_e5530ef9b0e246089a8a167d29783ac2",
              "IPY_MODEL_fdf8f567801643829bd3f4d950889e53"
            ],
            "layout": "IPY_MODEL_5d333d8120de4c648ef5b38f86d28b86"
          }
        },
        "39ce6f5b14594247b05072a706f4aa00": {
          "model_module": "@jupyter-widgets/controls",
          "model_name": "HTMLModel",
          "model_module_version": "1.5.0",
          "state": {
            "_dom_classes": [],
            "_model_module": "@jupyter-widgets/controls",
            "_model_module_version": "1.5.0",
            "_model_name": "HTMLModel",
            "_view_count": null,
            "_view_module": "@jupyter-widgets/controls",
            "_view_module_version": "1.5.0",
            "_view_name": "HTMLView",
            "description": "",
            "description_tooltip": null,
            "layout": "IPY_MODEL_57b3a3889f8f4144bf3678e294ea612c",
            "placeholder": "​",
            "style": "IPY_MODEL_89a77813d81f4facb81596bccf30a9c6",
            "value": "100%"
          }
        },
        "e5530ef9b0e246089a8a167d29783ac2": {
          "model_module": "@jupyter-widgets/controls",
          "model_name": "FloatProgressModel",
          "model_module_version": "1.5.0",
          "state": {
            "_dom_classes": [],
            "_model_module": "@jupyter-widgets/controls",
            "_model_module_version": "1.5.0",
            "_model_name": "FloatProgressModel",
            "_view_count": null,
            "_view_module": "@jupyter-widgets/controls",
            "_view_module_version": "1.5.0",
            "_view_name": "ProgressView",
            "bar_style": "success",
            "description": "",
            "description_tooltip": null,
            "layout": "IPY_MODEL_31c549350b6e413eac1c19b61dcd4e0f",
            "max": 168,
            "min": 0,
            "orientation": "horizontal",
            "style": "IPY_MODEL_dfd378c4e3f94b05b0ec1b2b469bcffc",
            "value": 168
          }
        },
        "fdf8f567801643829bd3f4d950889e53": {
          "model_module": "@jupyter-widgets/controls",
          "model_name": "HTMLModel",
          "model_module_version": "1.5.0",
          "state": {
            "_dom_classes": [],
            "_model_module": "@jupyter-widgets/controls",
            "_model_module_version": "1.5.0",
            "_model_name": "HTMLModel",
            "_view_count": null,
            "_view_module": "@jupyter-widgets/controls",
            "_view_module_version": "1.5.0",
            "_view_name": "HTMLView",
            "description": "",
            "description_tooltip": null,
            "layout": "IPY_MODEL_1e40b86b4f3345b0a9314e9a5dea162d",
            "placeholder": "​",
            "style": "IPY_MODEL_6596bd8b28694e31bcad093c7f7e410f",
            "value": " 168/168 [4:48:59&lt;00:00, 77.05s/it]"
          }
        },
        "5d333d8120de4c648ef5b38f86d28b86": {
          "model_module": "@jupyter-widgets/base",
          "model_name": "LayoutModel",
          "model_module_version": "1.2.0",
          "state": {
            "_model_module": "@jupyter-widgets/base",
            "_model_module_version": "1.2.0",
            "_model_name": "LayoutModel",
            "_view_count": null,
            "_view_module": "@jupyter-widgets/base",
            "_view_module_version": "1.2.0",
            "_view_name": "LayoutView",
            "align_content": null,
            "align_items": null,
            "align_self": null,
            "border": null,
            "bottom": null,
            "display": null,
            "flex": null,
            "flex_flow": null,
            "grid_area": null,
            "grid_auto_columns": null,
            "grid_auto_flow": null,
            "grid_auto_rows": null,
            "grid_column": null,
            "grid_gap": null,
            "grid_row": null,
            "grid_template_areas": null,
            "grid_template_columns": null,
            "grid_template_rows": null,
            "height": null,
            "justify_content": null,
            "justify_items": null,
            "left": null,
            "margin": null,
            "max_height": null,
            "max_width": null,
            "min_height": null,
            "min_width": null,
            "object_fit": null,
            "object_position": null,
            "order": null,
            "overflow": null,
            "overflow_x": null,
            "overflow_y": null,
            "padding": null,
            "right": null,
            "top": null,
            "visibility": null,
            "width": null
          }
        },
        "57b3a3889f8f4144bf3678e294ea612c": {
          "model_module": "@jupyter-widgets/base",
          "model_name": "LayoutModel",
          "model_module_version": "1.2.0",
          "state": {
            "_model_module": "@jupyter-widgets/base",
            "_model_module_version": "1.2.0",
            "_model_name": "LayoutModel",
            "_view_count": null,
            "_view_module": "@jupyter-widgets/base",
            "_view_module_version": "1.2.0",
            "_view_name": "LayoutView",
            "align_content": null,
            "align_items": null,
            "align_self": null,
            "border": null,
            "bottom": null,
            "display": null,
            "flex": null,
            "flex_flow": null,
            "grid_area": null,
            "grid_auto_columns": null,
            "grid_auto_flow": null,
            "grid_auto_rows": null,
            "grid_column": null,
            "grid_gap": null,
            "grid_row": null,
            "grid_template_areas": null,
            "grid_template_columns": null,
            "grid_template_rows": null,
            "height": null,
            "justify_content": null,
            "justify_items": null,
            "left": null,
            "margin": null,
            "max_height": null,
            "max_width": null,
            "min_height": null,
            "min_width": null,
            "object_fit": null,
            "object_position": null,
            "order": null,
            "overflow": null,
            "overflow_x": null,
            "overflow_y": null,
            "padding": null,
            "right": null,
            "top": null,
            "visibility": null,
            "width": null
          }
        },
        "89a77813d81f4facb81596bccf30a9c6": {
          "model_module": "@jupyter-widgets/controls",
          "model_name": "DescriptionStyleModel",
          "model_module_version": "1.5.0",
          "state": {
            "_model_module": "@jupyter-widgets/controls",
            "_model_module_version": "1.5.0",
            "_model_name": "DescriptionStyleModel",
            "_view_count": null,
            "_view_module": "@jupyter-widgets/base",
            "_view_module_version": "1.2.0",
            "_view_name": "StyleView",
            "description_width": ""
          }
        },
        "31c549350b6e413eac1c19b61dcd4e0f": {
          "model_module": "@jupyter-widgets/base",
          "model_name": "LayoutModel",
          "model_module_version": "1.2.0",
          "state": {
            "_model_module": "@jupyter-widgets/base",
            "_model_module_version": "1.2.0",
            "_model_name": "LayoutModel",
            "_view_count": null,
            "_view_module": "@jupyter-widgets/base",
            "_view_module_version": "1.2.0",
            "_view_name": "LayoutView",
            "align_content": null,
            "align_items": null,
            "align_self": null,
            "border": null,
            "bottom": null,
            "display": null,
            "flex": null,
            "flex_flow": null,
            "grid_area": null,
            "grid_auto_columns": null,
            "grid_auto_flow": null,
            "grid_auto_rows": null,
            "grid_column": null,
            "grid_gap": null,
            "grid_row": null,
            "grid_template_areas": null,
            "grid_template_columns": null,
            "grid_template_rows": null,
            "height": null,
            "justify_content": null,
            "justify_items": null,
            "left": null,
            "margin": null,
            "max_height": null,
            "max_width": null,
            "min_height": null,
            "min_width": null,
            "object_fit": null,
            "object_position": null,
            "order": null,
            "overflow": null,
            "overflow_x": null,
            "overflow_y": null,
            "padding": null,
            "right": null,
            "top": null,
            "visibility": null,
            "width": null
          }
        },
        "dfd378c4e3f94b05b0ec1b2b469bcffc": {
          "model_module": "@jupyter-widgets/controls",
          "model_name": "ProgressStyleModel",
          "model_module_version": "1.5.0",
          "state": {
            "_model_module": "@jupyter-widgets/controls",
            "_model_module_version": "1.5.0",
            "_model_name": "ProgressStyleModel",
            "_view_count": null,
            "_view_module": "@jupyter-widgets/base",
            "_view_module_version": "1.2.0",
            "_view_name": "StyleView",
            "bar_color": null,
            "description_width": ""
          }
        },
        "1e40b86b4f3345b0a9314e9a5dea162d": {
          "model_module": "@jupyter-widgets/base",
          "model_name": "LayoutModel",
          "model_module_version": "1.2.0",
          "state": {
            "_model_module": "@jupyter-widgets/base",
            "_model_module_version": "1.2.0",
            "_model_name": "LayoutModel",
            "_view_count": null,
            "_view_module": "@jupyter-widgets/base",
            "_view_module_version": "1.2.0",
            "_view_name": "LayoutView",
            "align_content": null,
            "align_items": null,
            "align_self": null,
            "border": null,
            "bottom": null,
            "display": null,
            "flex": null,
            "flex_flow": null,
            "grid_area": null,
            "grid_auto_columns": null,
            "grid_auto_flow": null,
            "grid_auto_rows": null,
            "grid_column": null,
            "grid_gap": null,
            "grid_row": null,
            "grid_template_areas": null,
            "grid_template_columns": null,
            "grid_template_rows": null,
            "height": null,
            "justify_content": null,
            "justify_items": null,
            "left": null,
            "margin": null,
            "max_height": null,
            "max_width": null,
            "min_height": null,
            "min_width": null,
            "object_fit": null,
            "object_position": null,
            "order": null,
            "overflow": null,
            "overflow_x": null,
            "overflow_y": null,
            "padding": null,
            "right": null,
            "top": null,
            "visibility": null,
            "width": null
          }
        },
        "6596bd8b28694e31bcad093c7f7e410f": {
          "model_module": "@jupyter-widgets/controls",
          "model_name": "DescriptionStyleModel",
          "model_module_version": "1.5.0",
          "state": {
            "_model_module": "@jupyter-widgets/controls",
            "_model_module_version": "1.5.0",
            "_model_name": "DescriptionStyleModel",
            "_view_count": null,
            "_view_module": "@jupyter-widgets/base",
            "_view_module_version": "1.2.0",
            "_view_name": "StyleView",
            "description_width": ""
          }
        },
        "5e55d9bcad904b00bea41e9b73fc8b52": {
          "model_module": "@jupyter-widgets/controls",
          "model_name": "HBoxModel",
          "model_module_version": "1.5.0",
          "state": {
            "_dom_classes": [],
            "_model_module": "@jupyter-widgets/controls",
            "_model_module_version": "1.5.0",
            "_model_name": "HBoxModel",
            "_view_count": null,
            "_view_module": "@jupyter-widgets/controls",
            "_view_module_version": "1.5.0",
            "_view_name": "HBoxView",
            "box_style": "",
            "children": [
              "IPY_MODEL_f3d606cd643344698aa34f7d0f46b93f",
              "IPY_MODEL_546afd4191e44bd4b243c79bf72786ad",
              "IPY_MODEL_bc200d442f5c4c15bf7e4f1c0d33880e"
            ],
            "layout": "IPY_MODEL_3c2ab9fee2d5412ea003bf23249932fc"
          }
        },
        "f3d606cd643344698aa34f7d0f46b93f": {
          "model_module": "@jupyter-widgets/controls",
          "model_name": "HTMLModel",
          "model_module_version": "1.5.0",
          "state": {
            "_dom_classes": [],
            "_model_module": "@jupyter-widgets/controls",
            "_model_module_version": "1.5.0",
            "_model_name": "HTMLModel",
            "_view_count": null,
            "_view_module": "@jupyter-widgets/controls",
            "_view_module_version": "1.5.0",
            "_view_name": "HTMLView",
            "description": "",
            "description_tooltip": null,
            "layout": "IPY_MODEL_9c18f2c4866f4bf8807e9fbdff446978",
            "placeholder": "​",
            "style": "IPY_MODEL_e06b5a3534e8414b8e8ab1beb2361be1",
            "value": "100%"
          }
        },
        "546afd4191e44bd4b243c79bf72786ad": {
          "model_module": "@jupyter-widgets/controls",
          "model_name": "FloatProgressModel",
          "model_module_version": "1.5.0",
          "state": {
            "_dom_classes": [],
            "_model_module": "@jupyter-widgets/controls",
            "_model_module_version": "1.5.0",
            "_model_name": "FloatProgressModel",
            "_view_count": null,
            "_view_module": "@jupyter-widgets/controls",
            "_view_module_version": "1.5.0",
            "_view_name": "ProgressView",
            "bar_style": "success",
            "description": "",
            "description_tooltip": null,
            "layout": "IPY_MODEL_d1dc80d042b544aa9adc683d5262e100",
            "max": 23,
            "min": 0,
            "orientation": "horizontal",
            "style": "IPY_MODEL_b5f677521dd04c909918c4272809cdd7",
            "value": 23
          }
        },
        "bc200d442f5c4c15bf7e4f1c0d33880e": {
          "model_module": "@jupyter-widgets/controls",
          "model_name": "HTMLModel",
          "model_module_version": "1.5.0",
          "state": {
            "_dom_classes": [],
            "_model_module": "@jupyter-widgets/controls",
            "_model_module_version": "1.5.0",
            "_model_name": "HTMLModel",
            "_view_count": null,
            "_view_module": "@jupyter-widgets/controls",
            "_view_module_version": "1.5.0",
            "_view_name": "HTMLView",
            "description": "",
            "description_tooltip": null,
            "layout": "IPY_MODEL_7047b21ff5a14d0d95aeb493b52c4432",
            "placeholder": "​",
            "style": "IPY_MODEL_472a2ef645064e84918a471c0ad6d5cc",
            "value": " 23/23 [38:41&lt;00:00, 99.56s/it]"
          }
        },
        "3c2ab9fee2d5412ea003bf23249932fc": {
          "model_module": "@jupyter-widgets/base",
          "model_name": "LayoutModel",
          "model_module_version": "1.2.0",
          "state": {
            "_model_module": "@jupyter-widgets/base",
            "_model_module_version": "1.2.0",
            "_model_name": "LayoutModel",
            "_view_count": null,
            "_view_module": "@jupyter-widgets/base",
            "_view_module_version": "1.2.0",
            "_view_name": "LayoutView",
            "align_content": null,
            "align_items": null,
            "align_self": null,
            "border": null,
            "bottom": null,
            "display": null,
            "flex": null,
            "flex_flow": null,
            "grid_area": null,
            "grid_auto_columns": null,
            "grid_auto_flow": null,
            "grid_auto_rows": null,
            "grid_column": null,
            "grid_gap": null,
            "grid_row": null,
            "grid_template_areas": null,
            "grid_template_columns": null,
            "grid_template_rows": null,
            "height": null,
            "justify_content": null,
            "justify_items": null,
            "left": null,
            "margin": null,
            "max_height": null,
            "max_width": null,
            "min_height": null,
            "min_width": null,
            "object_fit": null,
            "object_position": null,
            "order": null,
            "overflow": null,
            "overflow_x": null,
            "overflow_y": null,
            "padding": null,
            "right": null,
            "top": null,
            "visibility": null,
            "width": null
          }
        },
        "9c18f2c4866f4bf8807e9fbdff446978": {
          "model_module": "@jupyter-widgets/base",
          "model_name": "LayoutModel",
          "model_module_version": "1.2.0",
          "state": {
            "_model_module": "@jupyter-widgets/base",
            "_model_module_version": "1.2.0",
            "_model_name": "LayoutModel",
            "_view_count": null,
            "_view_module": "@jupyter-widgets/base",
            "_view_module_version": "1.2.0",
            "_view_name": "LayoutView",
            "align_content": null,
            "align_items": null,
            "align_self": null,
            "border": null,
            "bottom": null,
            "display": null,
            "flex": null,
            "flex_flow": null,
            "grid_area": null,
            "grid_auto_columns": null,
            "grid_auto_flow": null,
            "grid_auto_rows": null,
            "grid_column": null,
            "grid_gap": null,
            "grid_row": null,
            "grid_template_areas": null,
            "grid_template_columns": null,
            "grid_template_rows": null,
            "height": null,
            "justify_content": null,
            "justify_items": null,
            "left": null,
            "margin": null,
            "max_height": null,
            "max_width": null,
            "min_height": null,
            "min_width": null,
            "object_fit": null,
            "object_position": null,
            "order": null,
            "overflow": null,
            "overflow_x": null,
            "overflow_y": null,
            "padding": null,
            "right": null,
            "top": null,
            "visibility": null,
            "width": null
          }
        },
        "e06b5a3534e8414b8e8ab1beb2361be1": {
          "model_module": "@jupyter-widgets/controls",
          "model_name": "DescriptionStyleModel",
          "model_module_version": "1.5.0",
          "state": {
            "_model_module": "@jupyter-widgets/controls",
            "_model_module_version": "1.5.0",
            "_model_name": "DescriptionStyleModel",
            "_view_count": null,
            "_view_module": "@jupyter-widgets/base",
            "_view_module_version": "1.2.0",
            "_view_name": "StyleView",
            "description_width": ""
          }
        },
        "d1dc80d042b544aa9adc683d5262e100": {
          "model_module": "@jupyter-widgets/base",
          "model_name": "LayoutModel",
          "model_module_version": "1.2.0",
          "state": {
            "_model_module": "@jupyter-widgets/base",
            "_model_module_version": "1.2.0",
            "_model_name": "LayoutModel",
            "_view_count": null,
            "_view_module": "@jupyter-widgets/base",
            "_view_module_version": "1.2.0",
            "_view_name": "LayoutView",
            "align_content": null,
            "align_items": null,
            "align_self": null,
            "border": null,
            "bottom": null,
            "display": null,
            "flex": null,
            "flex_flow": null,
            "grid_area": null,
            "grid_auto_columns": null,
            "grid_auto_flow": null,
            "grid_auto_rows": null,
            "grid_column": null,
            "grid_gap": null,
            "grid_row": null,
            "grid_template_areas": null,
            "grid_template_columns": null,
            "grid_template_rows": null,
            "height": null,
            "justify_content": null,
            "justify_items": null,
            "left": null,
            "margin": null,
            "max_height": null,
            "max_width": null,
            "min_height": null,
            "min_width": null,
            "object_fit": null,
            "object_position": null,
            "order": null,
            "overflow": null,
            "overflow_x": null,
            "overflow_y": null,
            "padding": null,
            "right": null,
            "top": null,
            "visibility": null,
            "width": null
          }
        },
        "b5f677521dd04c909918c4272809cdd7": {
          "model_module": "@jupyter-widgets/controls",
          "model_name": "ProgressStyleModel",
          "model_module_version": "1.5.0",
          "state": {
            "_model_module": "@jupyter-widgets/controls",
            "_model_module_version": "1.5.0",
            "_model_name": "ProgressStyleModel",
            "_view_count": null,
            "_view_module": "@jupyter-widgets/base",
            "_view_module_version": "1.2.0",
            "_view_name": "StyleView",
            "bar_color": null,
            "description_width": ""
          }
        },
        "7047b21ff5a14d0d95aeb493b52c4432": {
          "model_module": "@jupyter-widgets/base",
          "model_name": "LayoutModel",
          "model_module_version": "1.2.0",
          "state": {
            "_model_module": "@jupyter-widgets/base",
            "_model_module_version": "1.2.0",
            "_model_name": "LayoutModel",
            "_view_count": null,
            "_view_module": "@jupyter-widgets/base",
            "_view_module_version": "1.2.0",
            "_view_name": "LayoutView",
            "align_content": null,
            "align_items": null,
            "align_self": null,
            "border": null,
            "bottom": null,
            "display": null,
            "flex": null,
            "flex_flow": null,
            "grid_area": null,
            "grid_auto_columns": null,
            "grid_auto_flow": null,
            "grid_auto_rows": null,
            "grid_column": null,
            "grid_gap": null,
            "grid_row": null,
            "grid_template_areas": null,
            "grid_template_columns": null,
            "grid_template_rows": null,
            "height": null,
            "justify_content": null,
            "justify_items": null,
            "left": null,
            "margin": null,
            "max_height": null,
            "max_width": null,
            "min_height": null,
            "min_width": null,
            "object_fit": null,
            "object_position": null,
            "order": null,
            "overflow": null,
            "overflow_x": null,
            "overflow_y": null,
            "padding": null,
            "right": null,
            "top": null,
            "visibility": null,
            "width": null
          }
        },
        "472a2ef645064e84918a471c0ad6d5cc": {
          "model_module": "@jupyter-widgets/controls",
          "model_name": "DescriptionStyleModel",
          "model_module_version": "1.5.0",
          "state": {
            "_model_module": "@jupyter-widgets/controls",
            "_model_module_version": "1.5.0",
            "_model_name": "DescriptionStyleModel",
            "_view_count": null,
            "_view_module": "@jupyter-widgets/base",
            "_view_module_version": "1.2.0",
            "_view_name": "StyleView",
            "description_width": ""
          }
        },
        "75ea90372be545bfa331a07bd2ba65e3": {
          "model_module": "@jupyter-widgets/controls",
          "model_name": "HBoxModel",
          "model_module_version": "1.5.0",
          "state": {
            "_dom_classes": [],
            "_model_module": "@jupyter-widgets/controls",
            "_model_module_version": "1.5.0",
            "_model_name": "HBoxModel",
            "_view_count": null,
            "_view_module": "@jupyter-widgets/controls",
            "_view_module_version": "1.5.0",
            "_view_name": "HBoxView",
            "box_style": "",
            "children": [
              "IPY_MODEL_24a41aa59c1a4c758edee83401c6febd",
              "IPY_MODEL_c563c0d24c424d40a8de18828fbf0cd4",
              "IPY_MODEL_0821ecd67da246dfaa90d89e2f7f1784"
            ],
            "layout": "IPY_MODEL_30e12fa51e9b4bbdb6bb0d6093ef4017"
          }
        },
        "24a41aa59c1a4c758edee83401c6febd": {
          "model_module": "@jupyter-widgets/controls",
          "model_name": "HTMLModel",
          "model_module_version": "1.5.0",
          "state": {
            "_dom_classes": [],
            "_model_module": "@jupyter-widgets/controls",
            "_model_module_version": "1.5.0",
            "_model_name": "HTMLModel",
            "_view_count": null,
            "_view_module": "@jupyter-widgets/controls",
            "_view_module_version": "1.5.0",
            "_view_name": "HTMLView",
            "description": "",
            "description_tooltip": null,
            "layout": "IPY_MODEL_4f2e4585199240a4a2dee259af6b9102",
            "placeholder": "​",
            "style": "IPY_MODEL_ea423e8fdb43476198075096453d96c2",
            "value": "  0%"
          }
        },
        "c563c0d24c424d40a8de18828fbf0cd4": {
          "model_module": "@jupyter-widgets/controls",
          "model_name": "FloatProgressModel",
          "model_module_version": "1.5.0",
          "state": {
            "_dom_classes": [],
            "_model_module": "@jupyter-widgets/controls",
            "_model_module_version": "1.5.0",
            "_model_name": "FloatProgressModel",
            "_view_count": null,
            "_view_module": "@jupyter-widgets/controls",
            "_view_module_version": "1.5.0",
            "_view_name": "ProgressView",
            "bar_style": "",
            "description": "",
            "description_tooltip": null,
            "layout": "IPY_MODEL_6cdcbfcbef094dba8a24cba43995b77b",
            "max": 168,
            "min": 0,
            "orientation": "horizontal",
            "style": "IPY_MODEL_3915239e4fb74786a218e731f057a833",
            "value": 0
          }
        },
        "0821ecd67da246dfaa90d89e2f7f1784": {
          "model_module": "@jupyter-widgets/controls",
          "model_name": "HTMLModel",
          "model_module_version": "1.5.0",
          "state": {
            "_dom_classes": [],
            "_model_module": "@jupyter-widgets/controls",
            "_model_module_version": "1.5.0",
            "_model_name": "HTMLModel",
            "_view_count": null,
            "_view_module": "@jupyter-widgets/controls",
            "_view_module_version": "1.5.0",
            "_view_name": "HTMLView",
            "description": "",
            "description_tooltip": null,
            "layout": "IPY_MODEL_94e2455a8f9945cc84b67c8d8816a7fa",
            "placeholder": "​",
            "style": "IPY_MODEL_9ec018ce144d4743b45dac2e43bdc193",
            "value": " 0/168 [00:00&lt;?, ?it/s]"
          }
        },
        "30e12fa51e9b4bbdb6bb0d6093ef4017": {
          "model_module": "@jupyter-widgets/base",
          "model_name": "LayoutModel",
          "model_module_version": "1.2.0",
          "state": {
            "_model_module": "@jupyter-widgets/base",
            "_model_module_version": "1.2.0",
            "_model_name": "LayoutModel",
            "_view_count": null,
            "_view_module": "@jupyter-widgets/base",
            "_view_module_version": "1.2.0",
            "_view_name": "LayoutView",
            "align_content": null,
            "align_items": null,
            "align_self": null,
            "border": null,
            "bottom": null,
            "display": null,
            "flex": null,
            "flex_flow": null,
            "grid_area": null,
            "grid_auto_columns": null,
            "grid_auto_flow": null,
            "grid_auto_rows": null,
            "grid_column": null,
            "grid_gap": null,
            "grid_row": null,
            "grid_template_areas": null,
            "grid_template_columns": null,
            "grid_template_rows": null,
            "height": null,
            "justify_content": null,
            "justify_items": null,
            "left": null,
            "margin": null,
            "max_height": null,
            "max_width": null,
            "min_height": null,
            "min_width": null,
            "object_fit": null,
            "object_position": null,
            "order": null,
            "overflow": null,
            "overflow_x": null,
            "overflow_y": null,
            "padding": null,
            "right": null,
            "top": null,
            "visibility": null,
            "width": null
          }
        },
        "4f2e4585199240a4a2dee259af6b9102": {
          "model_module": "@jupyter-widgets/base",
          "model_name": "LayoutModel",
          "model_module_version": "1.2.0",
          "state": {
            "_model_module": "@jupyter-widgets/base",
            "_model_module_version": "1.2.0",
            "_model_name": "LayoutModel",
            "_view_count": null,
            "_view_module": "@jupyter-widgets/base",
            "_view_module_version": "1.2.0",
            "_view_name": "LayoutView",
            "align_content": null,
            "align_items": null,
            "align_self": null,
            "border": null,
            "bottom": null,
            "display": null,
            "flex": null,
            "flex_flow": null,
            "grid_area": null,
            "grid_auto_columns": null,
            "grid_auto_flow": null,
            "grid_auto_rows": null,
            "grid_column": null,
            "grid_gap": null,
            "grid_row": null,
            "grid_template_areas": null,
            "grid_template_columns": null,
            "grid_template_rows": null,
            "height": null,
            "justify_content": null,
            "justify_items": null,
            "left": null,
            "margin": null,
            "max_height": null,
            "max_width": null,
            "min_height": null,
            "min_width": null,
            "object_fit": null,
            "object_position": null,
            "order": null,
            "overflow": null,
            "overflow_x": null,
            "overflow_y": null,
            "padding": null,
            "right": null,
            "top": null,
            "visibility": null,
            "width": null
          }
        },
        "ea423e8fdb43476198075096453d96c2": {
          "model_module": "@jupyter-widgets/controls",
          "model_name": "DescriptionStyleModel",
          "model_module_version": "1.5.0",
          "state": {
            "_model_module": "@jupyter-widgets/controls",
            "_model_module_version": "1.5.0",
            "_model_name": "DescriptionStyleModel",
            "_view_count": null,
            "_view_module": "@jupyter-widgets/base",
            "_view_module_version": "1.2.0",
            "_view_name": "StyleView",
            "description_width": ""
          }
        },
        "6cdcbfcbef094dba8a24cba43995b77b": {
          "model_module": "@jupyter-widgets/base",
          "model_name": "LayoutModel",
          "model_module_version": "1.2.0",
          "state": {
            "_model_module": "@jupyter-widgets/base",
            "_model_module_version": "1.2.0",
            "_model_name": "LayoutModel",
            "_view_count": null,
            "_view_module": "@jupyter-widgets/base",
            "_view_module_version": "1.2.0",
            "_view_name": "LayoutView",
            "align_content": null,
            "align_items": null,
            "align_self": null,
            "border": null,
            "bottom": null,
            "display": null,
            "flex": null,
            "flex_flow": null,
            "grid_area": null,
            "grid_auto_columns": null,
            "grid_auto_flow": null,
            "grid_auto_rows": null,
            "grid_column": null,
            "grid_gap": null,
            "grid_row": null,
            "grid_template_areas": null,
            "grid_template_columns": null,
            "grid_template_rows": null,
            "height": null,
            "justify_content": null,
            "justify_items": null,
            "left": null,
            "margin": null,
            "max_height": null,
            "max_width": null,
            "min_height": null,
            "min_width": null,
            "object_fit": null,
            "object_position": null,
            "order": null,
            "overflow": null,
            "overflow_x": null,
            "overflow_y": null,
            "padding": null,
            "right": null,
            "top": null,
            "visibility": null,
            "width": null
          }
        },
        "3915239e4fb74786a218e731f057a833": {
          "model_module": "@jupyter-widgets/controls",
          "model_name": "ProgressStyleModel",
          "model_module_version": "1.5.0",
          "state": {
            "_model_module": "@jupyter-widgets/controls",
            "_model_module_version": "1.5.0",
            "_model_name": "ProgressStyleModel",
            "_view_count": null,
            "_view_module": "@jupyter-widgets/base",
            "_view_module_version": "1.2.0",
            "_view_name": "StyleView",
            "bar_color": null,
            "description_width": ""
          }
        },
        "94e2455a8f9945cc84b67c8d8816a7fa": {
          "model_module": "@jupyter-widgets/base",
          "model_name": "LayoutModel",
          "model_module_version": "1.2.0",
          "state": {
            "_model_module": "@jupyter-widgets/base",
            "_model_module_version": "1.2.0",
            "_model_name": "LayoutModel",
            "_view_count": null,
            "_view_module": "@jupyter-widgets/base",
            "_view_module_version": "1.2.0",
            "_view_name": "LayoutView",
            "align_content": null,
            "align_items": null,
            "align_self": null,
            "border": null,
            "bottom": null,
            "display": null,
            "flex": null,
            "flex_flow": null,
            "grid_area": null,
            "grid_auto_columns": null,
            "grid_auto_flow": null,
            "grid_auto_rows": null,
            "grid_column": null,
            "grid_gap": null,
            "grid_row": null,
            "grid_template_areas": null,
            "grid_template_columns": null,
            "grid_template_rows": null,
            "height": null,
            "justify_content": null,
            "justify_items": null,
            "left": null,
            "margin": null,
            "max_height": null,
            "max_width": null,
            "min_height": null,
            "min_width": null,
            "object_fit": null,
            "object_position": null,
            "order": null,
            "overflow": null,
            "overflow_x": null,
            "overflow_y": null,
            "padding": null,
            "right": null,
            "top": null,
            "visibility": null,
            "width": null
          }
        },
        "9ec018ce144d4743b45dac2e43bdc193": {
          "model_module": "@jupyter-widgets/controls",
          "model_name": "DescriptionStyleModel",
          "model_module_version": "1.5.0",
          "state": {
            "_model_module": "@jupyter-widgets/controls",
            "_model_module_version": "1.5.0",
            "_model_name": "DescriptionStyleModel",
            "_view_count": null,
            "_view_module": "@jupyter-widgets/base",
            "_view_module_version": "1.2.0",
            "_view_name": "StyleView",
            "description_width": ""
          }
        }
      }
    }
  },
  "cells": [
    {
      "cell_type": "markdown",
      "metadata": {
        "id": "view-in-github",
        "colab_type": "text"
      },
      "source": [
        "<a href=\"https://colab.research.google.com/github/danielapavas/Google-QUEST-Q-A-Labeling/blob/main/04_Modelos.ipynb\" target=\"_parent\"><img src=\"https://colab.research.google.com/assets/colab-badge.svg\" alt=\"Open In Colab\"/></a>"
      ]
    },
    {
      "cell_type": "markdown",
      "source": [
        "#Carga de dataset desde Kaggle\n",
        "\n",
        "**Challenge Google QUEST Q&A Labeling**"
      ],
      "metadata": {
        "id": "DQhMh56A_nKN"
      }
    },
    {
      "cell_type": "markdown",
      "source": [
        "El dataset es tomado de la competencia de Kaggle: https://www.kaggle.com/competitions/google-quest-challenge/data"
      ],
      "metadata": {
        "id": "_Ju45AMA_rkG"
      }
    },
    {
      "cell_type": "code",
      "execution_count": 7,
      "metadata": {
        "id": "RFmNM3wK_Ybo",
        "colab": {
          "base_uri": "https://localhost:8080/"
        },
        "outputId": "d2990b06-f2c3-4b29-dfe4-4a1f27885e18"
      },
      "outputs": [
        {
          "output_type": "stream",
          "name": "stdout",
          "text": [
            "Requirement already satisfied: kaggle in /usr/local/lib/python3.10/dist-packages (1.6.17)\n",
            "Requirement already satisfied: six>=1.10 in /usr/local/lib/python3.10/dist-packages (from kaggle) (1.16.0)\n",
            "Requirement already satisfied: certifi>=2023.7.22 in /usr/local/lib/python3.10/dist-packages (from kaggle) (2024.8.30)\n",
            "Requirement already satisfied: python-dateutil in /usr/local/lib/python3.10/dist-packages (from kaggle) (2.8.2)\n",
            "Requirement already satisfied: requests in /usr/local/lib/python3.10/dist-packages (from kaggle) (2.32.3)\n",
            "Requirement already satisfied: tqdm in /usr/local/lib/python3.10/dist-packages (from kaggle) (4.66.6)\n",
            "Requirement already satisfied: python-slugify in /usr/local/lib/python3.10/dist-packages (from kaggle) (8.0.4)\n",
            "Requirement already satisfied: urllib3 in /usr/local/lib/python3.10/dist-packages (from kaggle) (2.2.3)\n",
            "Requirement already satisfied: bleach in /usr/local/lib/python3.10/dist-packages (from kaggle) (6.2.0)\n",
            "Requirement already satisfied: webencodings in /usr/local/lib/python3.10/dist-packages (from bleach->kaggle) (0.5.1)\n",
            "Requirement already satisfied: text-unidecode>=1.3 in /usr/local/lib/python3.10/dist-packages (from python-slugify->kaggle) (1.3)\n",
            "Requirement already satisfied: charset-normalizer<4,>=2 in /usr/local/lib/python3.10/dist-packages (from requests->kaggle) (3.4.0)\n",
            "Requirement already satisfied: idna<4,>=2.5 in /usr/local/lib/python3.10/dist-packages (from requests->kaggle) (3.10)\n"
          ]
        }
      ],
      "source": [
        "!pip install kaggle"
      ]
    },
    {
      "cell_type": "code",
      "source": [
        "#carga del token de kaggle\n",
        "\n",
        "from google.colab import files\n",
        "files.upload()"
      ],
      "metadata": {
        "colab": {
          "base_uri": "https://localhost:8080/",
          "height": 90
        },
        "id": "APvcS2Cl_yS1",
        "outputId": "838b17ea-da5a-4cba-843e-a11aa3c5ee82"
      },
      "execution_count": 8,
      "outputs": [
        {
          "output_type": "display_data",
          "data": {
            "text/plain": [
              "<IPython.core.display.HTML object>"
            ],
            "text/html": [
              "\n",
              "     <input type=\"file\" id=\"files-3b87cebb-14be-4752-8f3b-ec948853d24e\" name=\"files[]\" multiple disabled\n",
              "        style=\"border:none\" />\n",
              "     <output id=\"result-3b87cebb-14be-4752-8f3b-ec948853d24e\">\n",
              "      Upload widget is only available when the cell has been executed in the\n",
              "      current browser session. Please rerun this cell to enable.\n",
              "      </output>\n",
              "      <script>// Copyright 2017 Google LLC\n",
              "//\n",
              "// Licensed under the Apache License, Version 2.0 (the \"License\");\n",
              "// you may not use this file except in compliance with the License.\n",
              "// You may obtain a copy of the License at\n",
              "//\n",
              "//      http://www.apache.org/licenses/LICENSE-2.0\n",
              "//\n",
              "// Unless required by applicable law or agreed to in writing, software\n",
              "// distributed under the License is distributed on an \"AS IS\" BASIS,\n",
              "// WITHOUT WARRANTIES OR CONDITIONS OF ANY KIND, either express or implied.\n",
              "// See the License for the specific language governing permissions and\n",
              "// limitations under the License.\n",
              "\n",
              "/**\n",
              " * @fileoverview Helpers for google.colab Python module.\n",
              " */\n",
              "(function(scope) {\n",
              "function span(text, styleAttributes = {}) {\n",
              "  const element = document.createElement('span');\n",
              "  element.textContent = text;\n",
              "  for (const key of Object.keys(styleAttributes)) {\n",
              "    element.style[key] = styleAttributes[key];\n",
              "  }\n",
              "  return element;\n",
              "}\n",
              "\n",
              "// Max number of bytes which will be uploaded at a time.\n",
              "const MAX_PAYLOAD_SIZE = 100 * 1024;\n",
              "\n",
              "function _uploadFiles(inputId, outputId) {\n",
              "  const steps = uploadFilesStep(inputId, outputId);\n",
              "  const outputElement = document.getElementById(outputId);\n",
              "  // Cache steps on the outputElement to make it available for the next call\n",
              "  // to uploadFilesContinue from Python.\n",
              "  outputElement.steps = steps;\n",
              "\n",
              "  return _uploadFilesContinue(outputId);\n",
              "}\n",
              "\n",
              "// This is roughly an async generator (not supported in the browser yet),\n",
              "// where there are multiple asynchronous steps and the Python side is going\n",
              "// to poll for completion of each step.\n",
              "// This uses a Promise to block the python side on completion of each step,\n",
              "// then passes the result of the previous step as the input to the next step.\n",
              "function _uploadFilesContinue(outputId) {\n",
              "  const outputElement = document.getElementById(outputId);\n",
              "  const steps = outputElement.steps;\n",
              "\n",
              "  const next = steps.next(outputElement.lastPromiseValue);\n",
              "  return Promise.resolve(next.value.promise).then((value) => {\n",
              "    // Cache the last promise value to make it available to the next\n",
              "    // step of the generator.\n",
              "    outputElement.lastPromiseValue = value;\n",
              "    return next.value.response;\n",
              "  });\n",
              "}\n",
              "\n",
              "/**\n",
              " * Generator function which is called between each async step of the upload\n",
              " * process.\n",
              " * @param {string} inputId Element ID of the input file picker element.\n",
              " * @param {string} outputId Element ID of the output display.\n",
              " * @return {!Iterable<!Object>} Iterable of next steps.\n",
              " */\n",
              "function* uploadFilesStep(inputId, outputId) {\n",
              "  const inputElement = document.getElementById(inputId);\n",
              "  inputElement.disabled = false;\n",
              "\n",
              "  const outputElement = document.getElementById(outputId);\n",
              "  outputElement.innerHTML = '';\n",
              "\n",
              "  const pickedPromise = new Promise((resolve) => {\n",
              "    inputElement.addEventListener('change', (e) => {\n",
              "      resolve(e.target.files);\n",
              "    });\n",
              "  });\n",
              "\n",
              "  const cancel = document.createElement('button');\n",
              "  inputElement.parentElement.appendChild(cancel);\n",
              "  cancel.textContent = 'Cancel upload';\n",
              "  const cancelPromise = new Promise((resolve) => {\n",
              "    cancel.onclick = () => {\n",
              "      resolve(null);\n",
              "    };\n",
              "  });\n",
              "\n",
              "  // Wait for the user to pick the files.\n",
              "  const files = yield {\n",
              "    promise: Promise.race([pickedPromise, cancelPromise]),\n",
              "    response: {\n",
              "      action: 'starting',\n",
              "    }\n",
              "  };\n",
              "\n",
              "  cancel.remove();\n",
              "\n",
              "  // Disable the input element since further picks are not allowed.\n",
              "  inputElement.disabled = true;\n",
              "\n",
              "  if (!files) {\n",
              "    return {\n",
              "      response: {\n",
              "        action: 'complete',\n",
              "      }\n",
              "    };\n",
              "  }\n",
              "\n",
              "  for (const file of files) {\n",
              "    const li = document.createElement('li');\n",
              "    li.append(span(file.name, {fontWeight: 'bold'}));\n",
              "    li.append(span(\n",
              "        `(${file.type || 'n/a'}) - ${file.size} bytes, ` +\n",
              "        `last modified: ${\n",
              "            file.lastModifiedDate ? file.lastModifiedDate.toLocaleDateString() :\n",
              "                                    'n/a'} - `));\n",
              "    const percent = span('0% done');\n",
              "    li.appendChild(percent);\n",
              "\n",
              "    outputElement.appendChild(li);\n",
              "\n",
              "    const fileDataPromise = new Promise((resolve) => {\n",
              "      const reader = new FileReader();\n",
              "      reader.onload = (e) => {\n",
              "        resolve(e.target.result);\n",
              "      };\n",
              "      reader.readAsArrayBuffer(file);\n",
              "    });\n",
              "    // Wait for the data to be ready.\n",
              "    let fileData = yield {\n",
              "      promise: fileDataPromise,\n",
              "      response: {\n",
              "        action: 'continue',\n",
              "      }\n",
              "    };\n",
              "\n",
              "    // Use a chunked sending to avoid message size limits. See b/62115660.\n",
              "    let position = 0;\n",
              "    do {\n",
              "      const length = Math.min(fileData.byteLength - position, MAX_PAYLOAD_SIZE);\n",
              "      const chunk = new Uint8Array(fileData, position, length);\n",
              "      position += length;\n",
              "\n",
              "      const base64 = btoa(String.fromCharCode.apply(null, chunk));\n",
              "      yield {\n",
              "        response: {\n",
              "          action: 'append',\n",
              "          file: file.name,\n",
              "          data: base64,\n",
              "        },\n",
              "      };\n",
              "\n",
              "      let percentDone = fileData.byteLength === 0 ?\n",
              "          100 :\n",
              "          Math.round((position / fileData.byteLength) * 100);\n",
              "      percent.textContent = `${percentDone}% done`;\n",
              "\n",
              "    } while (position < fileData.byteLength);\n",
              "  }\n",
              "\n",
              "  // All done.\n",
              "  yield {\n",
              "    response: {\n",
              "      action: 'complete',\n",
              "    }\n",
              "  };\n",
              "}\n",
              "\n",
              "scope.google = scope.google || {};\n",
              "scope.google.colab = scope.google.colab || {};\n",
              "scope.google.colab._files = {\n",
              "  _uploadFiles,\n",
              "  _uploadFilesContinue,\n",
              "};\n",
              "})(self);\n",
              "</script> "
            ]
          },
          "metadata": {}
        },
        {
          "output_type": "stream",
          "name": "stdout",
          "text": [
            "Saving kaggle.json to kaggle.json\n"
          ]
        },
        {
          "output_type": "execute_result",
          "data": {
            "text/plain": [
              "{'kaggle.json': b'{\"username\":\"danielapavas\",\"key\":\"68c976b13c9b0f4fda22960f271dabd5\"}'}"
            ]
          },
          "metadata": {},
          "execution_count": 8
        }
      ]
    },
    {
      "cell_type": "code",
      "source": [
        "! mkdir ~/.kaggle"
      ],
      "metadata": {
        "id": "LJyLZ0Cs_0y0"
      },
      "execution_count": 9,
      "outputs": []
    },
    {
      "cell_type": "code",
      "source": [
        "! cp kaggle.json ~/.kaggle/"
      ],
      "metadata": {
        "id": "HU8C157K_4r3"
      },
      "execution_count": 10,
      "outputs": []
    },
    {
      "cell_type": "code",
      "source": [
        "! chmod 600 ~/.kaggle/kaggle.json"
      ],
      "metadata": {
        "id": "bMPX-MSjAC7H"
      },
      "execution_count": 12,
      "outputs": []
    },
    {
      "cell_type": "code",
      "source": [
        "!kaggle competitions download -c google-quest-challenge"
      ],
      "metadata": {
        "colab": {
          "base_uri": "https://localhost:8080/"
        },
        "id": "dPP8fWU5AF5P",
        "outputId": "afb27793-addf-4363-b1ee-90ee8d303947"
      },
      "execution_count": 11,
      "outputs": [
        {
          "output_type": "stream",
          "name": "stdout",
          "text": [
            "Warning: Your Kaggle API key is readable by other users on this system! To fix this, you can run 'chmod 600 /root/.kaggle/kaggle.json'\n",
            "Downloading google-quest-challenge.zip to /content\n",
            "100% 4.85M/4.85M [00:00<00:00, 42.7MB/s]\n",
            "100% 4.85M/4.85M [00:00<00:00, 42.4MB/s]\n"
          ]
        }
      ]
    },
    {
      "cell_type": "code",
      "source": [
        "!unzip  google-quest-challenge.zip"
      ],
      "metadata": {
        "colab": {
          "base_uri": "https://localhost:8080/"
        },
        "id": "a6GWg-TSAJLA",
        "outputId": "a6f1da93-2232-405c-ce69-fb105f8fa359"
      },
      "execution_count": 13,
      "outputs": [
        {
          "output_type": "stream",
          "name": "stdout",
          "text": [
            "Archive:  google-quest-challenge.zip\n",
            "  inflating: sample_submission.csv   \n",
            "  inflating: test.csv                \n",
            "  inflating: train.csv               \n"
          ]
        }
      ]
    },
    {
      "cell_type": "markdown",
      "source": [
        "# Imports- Librerias"
      ],
      "metadata": {
        "id": "32zlLuU9R2Xo"
      }
    },
    {
      "cell_type": "code",
      "source": [
        "import pandas as pd\n",
        "import numpy as np\n",
        "import re\n",
        "import nltk\n",
        "from nltk.corpus import stopwords\n",
        "from tqdm.notebook import tqdm\n",
        "import tensorflow as tf\n",
        "import tensorflow_hub as hub\n",
        "from tensorflow.keras.layers import Input, Softmax, GRU, LSTM, RNN, Embedding, Dense, RepeatVector, TimeDistributed, Bidirectional, Concatenate\n",
        "from tensorflow.keras.models import Model\n",
        "import matplotlib.pyplot as plt\n",
        "import seaborn as sns\n",
        "#import warnings\n",
        "#import html\n",
        "#warnings.filterwarnings('ignore')"
      ],
      "metadata": {
        "id": "9cU-5LUXR9w5"
      },
      "execution_count": 14,
      "outputs": []
    },
    {
      "cell_type": "markdown",
      "source": [
        "# Implementación de Modelos\n",
        "\n",
        "\n",
        "\n"
      ],
      "metadata": {
        "id": "8Cjd7LJcANDJ"
      }
    },
    {
      "cell_type": "code",
      "source": [
        "# Crear dataset\n",
        "\n",
        "train = pd.read_csv('train.csv')\n",
        "test = pd.read_csv('test.csv')\n",
        "sample_submission_dataset = pd.read_csv('sample_submission.csv')\n",
        "\n",
        "train.shape, test.shape, sample_submission_dataset.shape"
      ],
      "metadata": {
        "colab": {
          "base_uri": "https://localhost:8080/"
        },
        "id": "RyMWQEQzo47a",
        "outputId": "e8f2d3e7-8e9a-410d-a7df-cff446a05703"
      },
      "execution_count": 15,
      "outputs": [
        {
          "output_type": "execute_result",
          "data": {
            "text/plain": [
              "((6079, 41), (476, 11), (476, 31))"
            ]
          },
          "metadata": {},
          "execution_count": 15
        }
      ]
    },
    {
      "cell_type": "code",
      "source": [
        "# definiendo una función para eliminar las palabras vacias\n",
        "nltk.download('stopwords')\n",
        "stop_words = set(stopwords.words('english'))\n",
        "stop_words.remove('no'); stop_words.remove('not'); stop_words.remove('nor')\n",
        "\n",
        "def stopwrd_removal(sent):\n",
        "  lst = []\n",
        "  for wrd in sent.split():\n",
        "    if wrd not in stop_words:\n",
        "      lst.append(wrd)\n",
        "  return \" \".join(lst)"
      ],
      "metadata": {
        "id": "CXH_Cl69Ll7f",
        "colab": {
          "base_uri": "https://localhost:8080/"
        },
        "outputId": "0e09bbfb-9f55-4d35-8a03-1f8f82f27142"
      },
      "execution_count": 16,
      "outputs": [
        {
          "output_type": "stream",
          "name": "stderr",
          "text": [
            "[nltk_data] Downloading package stopwords to /root/nltk_data...\n",
            "[nltk_data]   Unzipping corpora/stopwords.zip.\n"
          ]
        }
      ]
    },
    {
      "cell_type": "code",
      "source": [
        "def text_preprocessor(column, remove_stopwords = False, remove_specialchar = False):\n",
        "  \"\"\"pass any column with Text in it from df_train | Note: returns nothing makes inplace changes in df_train\"\"\"\n",
        "  # 1. remove html tags, html urls, replace html comparison operators\n",
        "  # text = df_train[column].values\n",
        "  train[column] = [re.sub('<.*?>', ' ', i) for i in train[column].values]\n",
        "  train[column] = train[column].str.replace('&lt;', '<')\\\n",
        "                                          .str.replace('&gt;', '>')\\\n",
        "                                          .str.replace('&le;', '<=' )\\\n",
        "                                          .str.replace('&ge;', '>=')\n",
        "\n",
        "  # 2. remove latex i,e., if there is any formulas or latex we have to remove it\n",
        "  train[column] = [re.sub('\\$.*?\\$', ' ', i) for i in train[column].values]\n",
        "\n",
        "  # 3. all lowercase\n",
        "  train[column] = train[column].str.lower()\n",
        "\n",
        "  # 4. decontractions\n",
        "  train[column] = train[column].str.replace(\"won't\", \"will not\").str.replace(\"can\\'t\", \"can not\").str.replace(\"n\\'t\", \" not\").str.replace(\"\\'re\", \" are\").str.\\\n",
        "                                                replace(\"\\'s\", \" is\").str.replace(\"\\'d\", \" would\").str.replace(\"\\'ll\", \" will\").str.\\\n",
        "                                                replace(\"\\'t\", \" not\").str.replace(\"\\'ve\", \" have\").str.replace(\"\\'m\", \" am\")\n",
        "\n",
        "  # 5. removing non-english or hebrew characters\n",
        "  train[column] = [i.encode(\"ascii\", \"ignore\").decode() for i in train[column].values]\n",
        "\n",
        "  # 6. remove all special-characters other than alpha-numericals\n",
        "  if remove_specialchar == True:\n",
        "    train[column] = [re.sub('[^A-Za-z0-9]+', ' ', i) for i in train[column].values]\n",
        "\n",
        "  # 8. Stop_word removal\n",
        "  if remove_stopwords == True:\n",
        "    train[column] = [stopwrd_removal(i) for i in train[column].values]\n",
        "\n",
        "  # 9. remove all white-space i.e., \\n, \\t, and extra_spaces\n",
        "  train[column] = train[column].str.replace(\"\\n\", \" \").str.replace(\"\\t\", \" \").str.rstrip()\n",
        "  train[column] = [re.sub('  +', ' ', i) for i in train[column].values]\n"
      ],
      "metadata": {
        "id": "wBqp-CyqojZy"
      },
      "execution_count": 17,
      "outputs": []
    },
    {
      "cell_type": "code",
      "source": [
        "train['clean_title'] = train['question_title']\n",
        "train['clean_body'] = train['question_body']\n",
        "train['clean_answer'] = train['answer']\n",
        "text_preprocessor('clean_title',  remove_stopwords = False, remove_specialchar = False)\n",
        "text_preprocessor('clean_body',  remove_stopwords = False, remove_specialchar = False)\n",
        "text_preprocessor('clean_answer',  remove_stopwords = False, remove_specialchar = False)"
      ],
      "metadata": {
        "id": "_NEH6ouxpVLa"
      },
      "execution_count": 18,
      "outputs": []
    },
    {
      "cell_type": "code",
      "source": [
        "# Configuración de las funciones de destino\n",
        "question_tar = [col for col in train.columns\n",
        "    if col.startswith('question_') and train[col].dtype != 'object']\n",
        "\n",
        "answer_tar = [col for col in train.columns\n",
        "    if col.startswith('answer_') and train[col].dtype != 'object']\n",
        "\n",
        "print(\"question_tar:\", question_tar)\n",
        "print(\"answer_tar:\", answer_tar)\n",
        "\n",
        "tar_features = question_tar + answer_tar\n",
        "len(tar_features)"
      ],
      "metadata": {
        "colab": {
          "base_uri": "https://localhost:8080/"
        },
        "id": "bXKJz1NCCedJ",
        "outputId": "105612cc-5969-4c9f-dcf2-9b42b9cc404a"
      },
      "execution_count": 19,
      "outputs": [
        {
          "output_type": "stream",
          "name": "stdout",
          "text": [
            "question_tar: ['question_asker_intent_understanding', 'question_body_critical', 'question_conversational', 'question_expect_short_answer', 'question_fact_seeking', 'question_has_commonly_accepted_answer', 'question_interestingness_others', 'question_interestingness_self', 'question_multi_intent', 'question_not_really_a_question', 'question_opinion_seeking', 'question_type_choice', 'question_type_compare', 'question_type_consequence', 'question_type_definition', 'question_type_entity', 'question_type_instructions', 'question_type_procedure', 'question_type_reason_explanation', 'question_type_spelling', 'question_well_written']\n",
            "answer_tar: ['answer_helpful', 'answer_level_of_information', 'answer_plausible', 'answer_relevance', 'answer_satisfaction', 'answer_type_instructions', 'answer_type_procedure', 'answer_type_reason_explanation', 'answer_well_written']\n"
          ]
        },
        {
          "output_type": "execute_result",
          "data": {
            "text/plain": [
              "30"
            ]
          },
          "metadata": {},
          "execution_count": 19
        }
      ]
    },
    {
      "cell_type": "code",
      "source": [
        "# División del dataset train_test_split\n",
        "from sklearn.model_selection import train_test_split\n",
        "\n",
        "X_train, X_cv, y_train, y_cv = train_test_split(train[['clean_title', 'clean_body', 'clean_answer']], train[tar_features], test_size = 0.12, random_state = 42)\n",
        "X_train.shape, X_cv.shape, y_train.shape, y_cv.shape"
      ],
      "metadata": {
        "colab": {
          "base_uri": "https://localhost:8080/"
        },
        "id": "m3YXbj7grOd0",
        "outputId": "38584a85-2843-480b-b2f9-04dbc40e6866"
      },
      "execution_count": 20,
      "outputs": [
        {
          "output_type": "execute_result",
          "data": {
            "text/plain": [
              "((5349, 3), (730, 3), (5349, 30), (730, 30))"
            ]
          },
          "metadata": {},
          "execution_count": 20
        }
      ]
    },
    {
      "cell_type": "code",
      "source": [
        "#Creación de funciones de entrenamiento\n",
        "title_train = X_train['clean_title'].values\n",
        "body_train = X_train['clean_body'].values\n",
        "answer_train = X_train['clean_answer'].values\n",
        "\n",
        "title_cv = X_cv['clean_title'].values\n",
        "body_cv = X_cv['clean_body'].values\n",
        "answer_cv = X_cv['clean_answer'].values\n",
        "\n",
        "# train data\n",
        "title_body_train = [i+' '+j for i,j in zip(title_train, body_train)]\n",
        "y_train_ques = y_train[question_tar].values\n",
        "y_train_ans = y_train[answer_tar].values\n",
        "\n",
        "# cv data\n",
        "title_body_cv = [i+' '+j for i,j in zip(title_cv, body_cv)]\n",
        "y_cv_ques = y_cv[question_tar].values\n",
        "y_cv_ans = y_cv[answer_tar].values\n",
        "\n",
        "len(title_body_train), len(answer_train), len(title_body_cv), len(answer_cv)"
      ],
      "metadata": {
        "colab": {
          "base_uri": "https://localhost:8080/"
        },
        "id": "xPqRi6KEEHJK",
        "outputId": "6491cc78-ac2f-49bf-8b02-5a02d7ddb602"
      },
      "execution_count": 21,
      "outputs": [
        {
          "output_type": "execute_result",
          "data": {
            "text/plain": [
              "(5349, 5349, 730, 730)"
            ]
          },
          "metadata": {},
          "execution_count": 21
        }
      ]
    },
    {
      "cell_type": "markdown",
      "source": [
        "# BERT\n",
        "\n",
        "\n",
        "\n"
      ],
      "metadata": {
        "id": "yxiPdJ2MEf9m"
      }
    },
    {
      "cell_type": "code",
      "source": [
        "!pip install transformers"
      ],
      "metadata": {
        "colab": {
          "base_uri": "https://localhost:8080/"
        },
        "id": "E8GSv6QrElnv",
        "outputId": "1f1dccd8-3b6d-4756-e754-8b662c3473ff"
      },
      "execution_count": 22,
      "outputs": [
        {
          "output_type": "stream",
          "name": "stdout",
          "text": [
            "Requirement already satisfied: transformers in /usr/local/lib/python3.10/dist-packages (4.46.2)\n",
            "Requirement already satisfied: filelock in /usr/local/lib/python3.10/dist-packages (from transformers) (3.16.1)\n",
            "Requirement already satisfied: huggingface-hub<1.0,>=0.23.2 in /usr/local/lib/python3.10/dist-packages (from transformers) (0.26.2)\n",
            "Requirement already satisfied: numpy>=1.17 in /usr/local/lib/python3.10/dist-packages (from transformers) (1.26.4)\n",
            "Requirement already satisfied: packaging>=20.0 in /usr/local/lib/python3.10/dist-packages (from transformers) (24.2)\n",
            "Requirement already satisfied: pyyaml>=5.1 in /usr/local/lib/python3.10/dist-packages (from transformers) (6.0.2)\n",
            "Requirement already satisfied: regex!=2019.12.17 in /usr/local/lib/python3.10/dist-packages (from transformers) (2024.9.11)\n",
            "Requirement already satisfied: requests in /usr/local/lib/python3.10/dist-packages (from transformers) (2.32.3)\n",
            "Requirement already satisfied: safetensors>=0.4.1 in /usr/local/lib/python3.10/dist-packages (from transformers) (0.4.5)\n",
            "Requirement already satisfied: tokenizers<0.21,>=0.20 in /usr/local/lib/python3.10/dist-packages (from transformers) (0.20.3)\n",
            "Requirement already satisfied: tqdm>=4.27 in /usr/local/lib/python3.10/dist-packages (from transformers) (4.66.6)\n",
            "Requirement already satisfied: fsspec>=2023.5.0 in /usr/local/lib/python3.10/dist-packages (from huggingface-hub<1.0,>=0.23.2->transformers) (2024.10.0)\n",
            "Requirement already satisfied: typing-extensions>=3.7.4.3 in /usr/local/lib/python3.10/dist-packages (from huggingface-hub<1.0,>=0.23.2->transformers) (4.12.2)\n",
            "Requirement already satisfied: charset-normalizer<4,>=2 in /usr/local/lib/python3.10/dist-packages (from requests->transformers) (3.4.0)\n",
            "Requirement already satisfied: idna<4,>=2.5 in /usr/local/lib/python3.10/dist-packages (from requests->transformers) (3.10)\n",
            "Requirement already satisfied: urllib3<3,>=1.21.1 in /usr/local/lib/python3.10/dist-packages (from requests->transformers) (2.2.3)\n",
            "Requirement already satisfied: certifi>=2017.4.17 in /usr/local/lib/python3.10/dist-packages (from requests->transformers) (2024.8.30)\n"
          ]
        }
      ]
    },
    {
      "cell_type": "code",
      "source": [
        "from transformers import BertTokenizer, TFBertModel, BertConfig\n",
        "\n",
        "# Cargar modelo/tokenizador preentrenado\n",
        "config = BertConfig.from_pretrained('bert-base-uncased', output_hidden_states=True)\n",
        "bert_tokenizer = BertTokenizer.from_pretrained('bert-base-uncased')\n",
        "bert_model = TFBertModel.from_pretrained('bert-base-uncased', config = config)"
      ],
      "metadata": {
        "colab": {
          "base_uri": "https://localhost:8080/"
        },
        "id": "HKf46lZGFG9g",
        "outputId": "52b9696a-220c-4a68-aecc-4ac73d9960f1"
      },
      "execution_count": 23,
      "outputs": [
        {
          "output_type": "stream",
          "name": "stderr",
          "text": [
            "Some weights of the PyTorch model were not used when initializing the TF 2.0 model TFBertModel: ['cls.seq_relationship.weight', 'cls.predictions.transform.dense.bias', 'cls.seq_relationship.bias', 'cls.predictions.transform.LayerNorm.bias', 'cls.predictions.bias', 'cls.predictions.transform.dense.weight', 'cls.predictions.transform.LayerNorm.weight']\n",
            "- This IS expected if you are initializing TFBertModel from a PyTorch model trained on another task or with another architecture (e.g. initializing a TFBertForSequenceClassification model from a BertForPreTraining model).\n",
            "- This IS NOT expected if you are initializing TFBertModel from a PyTorch model that you expect to be exactly identical (e.g. initializing a TFBertForSequenceClassification model from a BertForSequenceClassification model).\n",
            "All the weights of TFBertModel were initialized from the PyTorch model.\n",
            "If your task is similar to the task the model of the checkpoint was trained on, you can already use TFBertModel for predictions without further training.\n"
          ]
        }
      ]
    },
    {
      "cell_type": "code",
      "source": [
        "# Tokenización: title_body\n",
        "title_body_train_tokens = bert_tokenizer.batch_encode_plus(title_body_train, max_length = 512, truncation = True, pad_to_max_length = True, return_tensors=\"tf\")\n",
        "title_body_cv_tokens = bert_tokenizer.batch_encode_plus(title_body_cv, max_length = 512, truncation = True, pad_to_max_length = True, return_tensors=\"tf\")\n",
        "\n",
        "tb_train_input_ids  = np.array(title_body_train_tokens['input_ids'])\n",
        "tb_train_attn_mask = np.array(title_body_train_tokens['attention_mask'])\n",
        "tb_train_token_typ_ids = np.array(title_body_train_tokens['token_type_ids'])\n",
        "\n",
        "tb_cv_input_ids  = np.array(title_body_cv_tokens['input_ids'])\n",
        "tb_cv_attn_mask = np.array(title_body_cv_tokens['attention_mask'])\n",
        "tb_cv_token_typ_ids = np.array(title_body_cv_tokens['token_type_ids'])\n",
        "\n",
        "tb_train_input_ids.shape, tb_train_attn_mask.shape, tb_train_token_typ_ids.shape, tb_cv_input_ids.shape, tb_cv_attn_mask.shape, tb_cv_token_typ_ids.shape"
      ],
      "metadata": {
        "colab": {
          "base_uri": "https://localhost:8080/"
        },
        "id": "3J9_l5AwFpiF",
        "outputId": "719ad2c2-2a6b-43f4-a06c-6feb471434fa"
      },
      "execution_count": 24,
      "outputs": [
        {
          "output_type": "stream",
          "name": "stderr",
          "text": [
            "/usr/local/lib/python3.10/dist-packages/transformers/tokenization_utils_base.py:2834: FutureWarning: The `pad_to_max_length` argument is deprecated and will be removed in a future version, use `padding=True` or `padding='longest'` to pad to the longest sequence in the batch, or use `padding='max_length'` to pad to a max length. In this case, you can give a specific length with `max_length` (e.g. `max_length=45`) or leave max_length to None to pad to the maximal input size of the model (e.g. 512 for Bert).\n",
            "  warnings.warn(\n"
          ]
        },
        {
          "output_type": "execute_result",
          "data": {
            "text/plain": [
              "((5349, 512), (5349, 512), (5349, 512), (730, 512), (730, 512), (730, 512))"
            ]
          },
          "metadata": {},
          "execution_count": 24
        }
      ]
    },
    {
      "cell_type": "code",
      "source": [
        "# Tokenización: answer\n",
        "ans_train_tokens = bert_tokenizer.batch_encode_plus(answer_train, max_length = 512, truncation = True, pad_to_max_length = True, return_tensors=\"tf\")\n",
        "ans_cv_tokens = bert_tokenizer.batch_encode_plus(answer_cv, max_length = 512, truncation = True, pad_to_max_length = True, return_tensors=\"tf\")\n",
        "\n",
        "ans_train_input_ids  = np.array(ans_train_tokens['input_ids'])\n",
        "ans_train_attn_mask = np.array(ans_train_tokens['attention_mask'])\n",
        "ans_train_token_typ_ids = np.array(ans_train_tokens['token_type_ids'])\n",
        "\n",
        "ans_cv_input_ids  = np.array(ans_cv_tokens['input_ids'])\n",
        "ans_cv_attn_mask = np.array(ans_cv_tokens['attention_mask'])\n",
        "ans_cv_token_typ_ids = np.array(ans_cv_tokens['token_type_ids'])\n",
        "seq_len = ans_train_input_ids.shape[1]\n",
        "\n",
        "ans_train_input_ids.shape, ans_train_attn_mask.shape, ans_train_token_typ_ids.shape, ans_cv_input_ids.shape, ans_cv_attn_mask.shape, ans_cv_token_typ_ids.shape"
      ],
      "metadata": {
        "colab": {
          "base_uri": "https://localhost:8080/"
        },
        "id": "1R9donS-GR2I",
        "outputId": "5fdb3a28-91c9-4385-878d-65a05a7a1ce4"
      },
      "execution_count": 25,
      "outputs": [
        {
          "output_type": "execute_result",
          "data": {
            "text/plain": [
              "((5349, 512), (5349, 512), (5349, 512), (730, 512), (730, 512), (730, 512))"
            ]
          },
          "metadata": {},
          "execution_count": 25
        }
      ]
    },
    {
      "cell_type": "code",
      "source": [
        "# train : title_body BERT\n",
        "batch_size = 32\n",
        "l = tb_train_input_ids.shape[0]\n",
        "\n",
        "lst1 = []\n",
        "for i in tqdm(range((l//batch_size)+1)):\n",
        "  x = bert_model([tb_train_input_ids[i*batch_size:(i+1)*batch_size], tb_train_attn_mask[i*batch_size:(i+1)*batch_size], tb_train_token_typ_ids[i*batch_size:(i+1)*batch_size]])[2]\n",
        "\n",
        "# obtener estados ocultos de las últimas 4 capas (promedio de cada paso de tiempo)\n",
        "  lst = [tf.reduce_mean(i, axis = 1) for i in x[-4:]]\n",
        "  conc = tf.concat(lst, axis = 1)\n",
        "  lst1.append(conc)\n",
        "tb_BERT_train = tf.concat(lst1, axis = 0)\n",
        "print(tb_BERT_train.shape)\n",
        "\n",
        "# cv : title_body BERT\n",
        "batch_size = 32\n",
        "l = ans_cv_input_ids.shape[0]\n",
        "\n",
        "lst1 = []\n",
        "for i in tqdm(range((l//batch_size)+1)):\n",
        "  x = bert_model([tb_cv_input_ids[i*batch_size:(i+1)*batch_size], tb_cv_attn_mask[i*batch_size:(i+1)*batch_size], tb_cv_token_typ_ids[i*batch_size:(i+1)*batch_size]])[2]\n",
        "\n",
        "# obtener estados ocultos de las últimas 4 capas (promedio de cada paso de tiempo)\n",
        "  lst = [tf.reduce_mean(i, axis = 1) for i in x[-4:]]\n",
        "  conc = tf.concat(lst, axis = 1)\n",
        "  lst1.append(conc)\n",
        "tb_BERT_cv = tf.concat(lst1, axis = 0)\n",
        "\n",
        "print(tb_BERT_cv.shape)\n"
      ],
      "metadata": {
        "colab": {
          "base_uri": "https://localhost:8080/",
          "height": 116,
          "referenced_widgets": [
            "aeb23ced712b4a379471f38945c64ca5",
            "39ce6f5b14594247b05072a706f4aa00",
            "e5530ef9b0e246089a8a167d29783ac2",
            "fdf8f567801643829bd3f4d950889e53",
            "5d333d8120de4c648ef5b38f86d28b86",
            "57b3a3889f8f4144bf3678e294ea612c",
            "89a77813d81f4facb81596bccf30a9c6",
            "31c549350b6e413eac1c19b61dcd4e0f",
            "dfd378c4e3f94b05b0ec1b2b469bcffc",
            "1e40b86b4f3345b0a9314e9a5dea162d",
            "6596bd8b28694e31bcad093c7f7e410f",
            "5e55d9bcad904b00bea41e9b73fc8b52",
            "f3d606cd643344698aa34f7d0f46b93f",
            "546afd4191e44bd4b243c79bf72786ad",
            "bc200d442f5c4c15bf7e4f1c0d33880e",
            "3c2ab9fee2d5412ea003bf23249932fc",
            "9c18f2c4866f4bf8807e9fbdff446978",
            "e06b5a3534e8414b8e8ab1beb2361be1",
            "d1dc80d042b544aa9adc683d5262e100",
            "b5f677521dd04c909918c4272809cdd7",
            "7047b21ff5a14d0d95aeb493b52c4432",
            "472a2ef645064e84918a471c0ad6d5cc"
          ]
        },
        "id": "rlAeDJbjGm_v",
        "outputId": "17bf102d-7c13-4875-e12b-356c1648c973"
      },
      "execution_count": null,
      "outputs": [
        {
          "data": {
            "application/vnd.jupyter.widget-view+json": {
              "model_id": "aeb23ced712b4a379471f38945c64ca5",
              "version_major": 2,
              "version_minor": 0
            },
            "text/plain": [
              "  0%|          | 0/168 [00:00<?, ?it/s]"
            ]
          },
          "metadata": {},
          "output_type": "display_data"
        },
        {
          "metadata": {
            "tags": null
          },
          "name": "stdout",
          "output_type": "stream",
          "text": [
            "(5349, 3072)\n"
          ]
        },
        {
          "data": {
            "application/vnd.jupyter.widget-view+json": {
              "model_id": "5e55d9bcad904b00bea41e9b73fc8b52",
              "version_major": 2,
              "version_minor": 0
            },
            "text/plain": [
              "  0%|          | 0/23 [00:00<?, ?it/s]"
            ]
          },
          "metadata": {},
          "output_type": "display_data"
        },
        {
          "output_type": "stream",
          "name": "stdout",
          "text": [
            "(730, 3072)\n"
          ]
        }
      ]
    },
    {
      "cell_type": "code",
      "source": [
        "# train : answer BERT\n",
        "batch_size = 32\n",
        "l = ans_train_input_ids.shape[0]\n",
        "\n",
        "lst1 = []\n",
        "for i in tqdm(range((l//batch_size)+1)):\n",
        "  x = bert_model([ans_train_input_ids[i*batch_size:(i+1)*batch_size], ans_train_attn_mask[i*batch_size:(i+1)*batch_size], ans_train_token_typ_ids[i*batch_size:(i+1)*batch_size]])[2]\n",
        "\n",
        "# obtener estados ocultos de las últimas 4 capas (promedio de cada paso de tiempo)\n",
        "  lst = [i[:, 0, :] for i in x[-4:]]\n",
        "  conc = tf.concat(lst, axis = 1)\n",
        "  lst1.append(conc)\n",
        "ans_BERT_train = tf.concat(lst1, axis = 0)\n",
        "print(ans_BERT_train.shape)\n",
        "\n",
        "# cv : ans BERT\n",
        "batch_size = 32\n",
        "l = ans_cv_input_ids.shape[0]\n",
        "lst1 = []\n",
        "for i in tqdm(range((l//batch_size)+1)):\n",
        "  x = bert_model([ans_cv_input_ids[i*batch_size:(i+1)*batch_size], ans_cv_attn_mask[i*batch_size:(i+1)*batch_size], ans_cv_token_typ_ids[i*batch_size:(i+1)*batch_size]])[2]\n",
        "\n",
        "# obtener estados ocultos de las últimas 4 capas (promedio de cada paso de tiempo)\n",
        "  lst = [i[:, 0, :] for i in x[-4:]]\n",
        "  conc = tf.concat(lst, axis = 1)\n",
        "  lst1.append(conc)\n",
        "ans_BERT_cv = tf.concat(lst1, axis = 0)\n",
        "print(ans_BERT_cv.shape)\n"
      ],
      "metadata": {
        "id": "VNFHWOuJIl4I",
        "colab": {
          "base_uri": "https://localhost:8080/",
          "referenced_widgets": [
            "75ea90372be545bfa331a07bd2ba65e3",
            "24a41aa59c1a4c758edee83401c6febd",
            "c563c0d24c424d40a8de18828fbf0cd4",
            "0821ecd67da246dfaa90d89e2f7f1784",
            "30e12fa51e9b4bbdb6bb0d6093ef4017",
            "4f2e4585199240a4a2dee259af6b9102",
            "ea423e8fdb43476198075096453d96c2",
            "6cdcbfcbef094dba8a24cba43995b77b",
            "3915239e4fb74786a218e731f057a833",
            "94e2455a8f9945cc84b67c8d8816a7fa",
            "9ec018ce144d4743b45dac2e43bdc193"
          ],
          "height": 49
        },
        "outputId": "7d4911f7-860d-4d4d-f6ad-1732689aa217"
      },
      "execution_count": null,
      "outputs": [
        {
          "output_type": "display_data",
          "data": {
            "text/plain": [
              "  0%|          | 0/168 [00:00<?, ?it/s]"
            ],
            "application/vnd.jupyter.widget-view+json": {
              "version_major": 2,
              "version_minor": 0,
              "model_id": "75ea90372be545bfa331a07bd2ba65e3"
            }
          },
          "metadata": {}
        }
      ]
    },
    {
      "cell_type": "markdown",
      "source": [
        "# USE"
      ],
      "metadata": {
        "id": "rqKAuv2TJGis"
      }
    },
    {
      "cell_type": "code",
      "source": [
        "# Cargando el modelo USE\n",
        "use_model = hub.load(\"https://tfhub.dev/google/universal-sentence-encoder-large/5\")"
      ],
      "metadata": {
        "id": "qJJczXb8JF7c"
      },
      "execution_count": null,
      "outputs": []
    },
    {
      "cell_type": "code",
      "source": [
        "# title_body\n",
        "tb_USE_train = np.zeros((len(title_body_train), 512))\n",
        "batch_size = 32\n",
        "for i in tqdm(range(int(len(title_body_train)/batch_size)+1)):\n",
        "  tb_USE_train[i*batch_size : (i+1)*batch_size] = use_model(title_body_train[i*batch_size : (i+1)*batch_size]).numpy()\n",
        "print(tb_USE_train.shape)\n",
        "\n",
        "tb_USE_cv = np.zeros((len(title_body_cv), 512))\n",
        "batch_size = 64\n",
        "for i in tqdm(range(int(len(title_body_cv)/batch_size)+1)):\n",
        "  tb_USE_cv[i*batch_size : (i+1)*batch_size] = use_model(title_body_cv[i*batch_size : (i+1)*batch_size]).numpy()\n",
        "print(tb_USE_cv.shape)"
      ],
      "metadata": {
        "id": "Tmi1Rv35RTbL"
      },
      "execution_count": null,
      "outputs": []
    },
    {
      "cell_type": "code",
      "source": [
        "# answer\n",
        "ans_USE_train = np.zeros((len(answer_train), 512))\n",
        "batch_size = 32\n",
        "for i in tqdm(range(int(len(answer_train)/batch_size)+1)):\n",
        "  ans_USE_train[i*batch_size : (i+1)*batch_size] = use_model(answer_train[i*batch_size : (i+1)*batch_size]).numpy()\n",
        "print(ans_USE_train.shape)\n",
        "\n",
        "ans_USE_cv = np.zeros((len(answer_cv), 512))\n",
        "batch_size = 32\n",
        "for i in tqdm(range(int(len(answer_cv)/batch_size)+1)):\n",
        "  ans_USE_cv[i*batch_size : (i+1)*batch_size] = use_model(answer_cv[i*batch_size : (i+1)*batch_size]).numpy()\n",
        "print(ans_USE_cv.shape)"
      ],
      "metadata": {
        "id": "lu73iglLRXVq"
      },
      "execution_count": null,
      "outputs": []
    },
    {
      "cell_type": "markdown",
      "source": [
        "# RoBERTa"
      ],
      "metadata": {
        "id": "uZeDwJ2yRbyQ"
      }
    },
    {
      "cell_type": "code",
      "source": [
        "from transformers import RobertaConfig, RobertaTokenizer, TFRobertaModel\n",
        "\n",
        "# Carga de modelo/tokenizador preentrenado\n",
        "config = RobertaConfig.from_pretrained('roberta-base', output_hidden_states=True)\n",
        "roberta_tokenizer = RobertaTokenizer.from_pretrained('roberta-base')\n",
        "roberta_model = TFRobertaModel.from_pretrained('roberta-base', config = config)"
      ],
      "metadata": {
        "id": "RgEqTRqwRgI5"
      },
      "execution_count": null,
      "outputs": []
    },
    {
      "cell_type": "code",
      "source": [
        "# Tokenización: title_body\n",
        "title_body_train_tokens = roberta_tokenizer.batch_encode_plus(title_body_train, max_length = 512, truncation = True, pad_to_max_length = True, return_tensors=\"tf\")\n",
        "title_body_cv_tokens = roberta_tokenizer.batch_encode_plus(title_body_cv, max_length = 512, truncation = True, pad_to_max_length = True, return_tensors=\"tf\")\n",
        "\n",
        "tb_train_input_ids  = np.array(title_body_train_tokens['input_ids'])\n",
        "tb_train_attn_mask = np.array(title_body_train_tokens['attention_mask'])\n",
        "\n",
        "tb_cv_input_ids  = np.array(title_body_cv_tokens['input_ids'])\n",
        "tb_cv_attn_mask = np.array(title_body_cv_tokens['attention_mask'])\n",
        "\n",
        "print(tb_train_input_ids.shape, tb_train_attn_mask.shape, tb_cv_input_ids.shape, tb_cv_attn_mask.shape)\n",
        "\n",
        "# Tokenización: answer\n",
        "ans_train_tokens = roberta_tokenizer.batch_encode_plus(answer_train, max_length = 300, truncation = True, pad_to_max_length = True, return_tensors=\"tf\")\n",
        "ans_cv_tokens = roberta_tokenizer.batch_encode_plus(answer_cv, max_length = 300, truncation = True, pad_to_max_length = True, return_tensors=\"tf\")\n",
        "\n",
        "ans_train_input_ids  = np.array(ans_train_tokens['input_ids'])\n",
        "ans_train_attn_mask = np.array(ans_train_tokens['attention_mask'])\n",
        "\n",
        "ans_cv_input_ids  = np.array(ans_cv_tokens['input_ids'])\n",
        "ans_cv_attn_mask = np.array(ans_cv_tokens['attention_mask'])\n",
        "seq_len = ans_train_input_ids.shape[1]\n",
        "\n",
        "print(ans_train_input_ids.shape, ans_train_attn_mask.shape, ans_cv_input_ids.shape, ans_cv_attn_mask.shape)\n"
      ],
      "metadata": {
        "id": "2R3NrvKFSOYJ"
      },
      "execution_count": null,
      "outputs": []
    },
    {
      "cell_type": "code",
      "source": [
        "#  title_body : TRAIN RoBERTa\n",
        "batch_size = 32\n",
        "l = tb_train_input_ids.shape[0]\n",
        "\n",
        "lst1 = []\n",
        "for i in tqdm(range((l//batch_size)+1)):\n",
        "  x = roberta_model([tb_train_input_ids[i*batch_size:(i+1)*batch_size], tb_train_attn_mask[i*batch_size:(i+1)*batch_size]])[2]\n",
        "\n",
        "# obtener estados ocultos de las últimas 4 capas (promedio de cada paso de tiempo)\n",
        "  lst = [i[:, 0, :] for i in x[-4:]]\n",
        "  conc = tf.concat(lst, axis = 1)\n",
        "  lst1.append(conc)\n",
        "tb_RoBERTa_train = tf.concat(lst1, axis = 0)\n",
        "print(tb_RoBERTa_train.shape)\n",
        "\n",
        "# title_body : CV RoBERTa\n",
        "batch_size = 32\n",
        "l = tb_cv_input_ids.shape[0]\n",
        "\n",
        "lst1 = []\n",
        "for i in tqdm(range((l//batch_size)+1)):\n",
        "  x = roberta_model([tb_cv_input_ids[i*batch_size:(i+1)*batch_size], tb_cv_attn_mask[i*batch_size:(i+1)*batch_size]])[2]\n",
        "\n",
        "# obtener estados ocultos de las últimas 4 capas (promedio de cada paso de tiempo)\n",
        "  lst = [i[:, 0, :] for i in x[-4:]]\n",
        "  conc = tf.concat(lst, axis = 1)\n",
        "  lst1.append(conc)\n",
        "tb_RoBERTa_cv = tf.concat(lst1, axis = 0)\n",
        "print(tb_RoBERTa_cv.shape)"
      ],
      "metadata": {
        "id": "xg0i94EVTuXY"
      },
      "execution_count": null,
      "outputs": []
    },
    {
      "cell_type": "code",
      "source": [
        "#  answer : TRAIN RoBERTa\n",
        "batch_size = 32\n",
        "l = ans_train_input_ids.shape[0]\n",
        "\n",
        "lst1 = []\n",
        "for i in tqdm(range((l//batch_size)+1)):\n",
        "  x = roberta_model([ans_train_input_ids[i*batch_size:(i+1)*batch_size], ans_train_attn_mask[i*batch_size:(i+1)*batch_size]])[2]\n",
        "\n",
        "# obtener estados ocultos de las últimas 4 capas (promedio de cada paso de tiempo)\n",
        "  lst = [i[:, 0, :] for i in x[-4:]]\n",
        "  conc = tf.concat(lst, axis = 1)\n",
        "  lst1.append(conc)\n",
        "ans_RoBERTa_train = tf.concat(lst1, axis = 0)\n",
        "print(ans_RoBERTa_train.shape)\n",
        "\n",
        "# answer : CV BERT\n",
        "batch_size = 32\n",
        "l = ans_cv_input_ids.shape[0]\n",
        "lst1 = []\n",
        "for i in tqdm(range((l//batch_size)+1)):\n",
        "  x = roberta_model([ans_cv_input_ids[i*batch_size:(i+1)*batch_size], ans_cv_attn_mask[i*batch_size:(i+1)*batch_size]])[2]\n",
        "\n",
        "# obtener estados ocultos de las últimas 4 capas (promedio de cada paso de tiempo)\n",
        "  lst = [i[:, 0, :] for i in x[-4:]]\n",
        "  conc = tf.concat(lst, axis = 1)\n",
        "  lst1.append(conc)\n",
        "ans_RoBERTa_cv = tf.concat(lst1, axis = 0)\n",
        "print(ans_RoBERTa_cv.shape)"
      ],
      "metadata": {
        "id": "cAPIIUI2UJRB"
      },
      "execution_count": null,
      "outputs": []
    },
    {
      "cell_type": "markdown",
      "source": [
        "# XLNet"
      ],
      "metadata": {
        "id": "JZArBEH6UdcM"
      }
    },
    {
      "cell_type": "code",
      "source": [
        "from transformers import XLNetConfig, XLNetTokenizer, TFXLNetModel\n",
        "\n",
        "# Cargar modelo/tokenizador preentrenado\n",
        "config = XLNetConfig.from_pretrained('xlnet-base-cased', output_hidden_states=True)\n",
        "xlnet_tokenizer = XLNetTokenizer.from_pretrained('xlnet-base-cased')\n",
        "xlnet_model = TFXLNetModel.from_pretrained('xlnet-base-cased', config = config)"
      ],
      "metadata": {
        "id": "8NTHpf6vUhZ4"
      },
      "execution_count": null,
      "outputs": []
    },
    {
      "cell_type": "code",
      "source": [
        "# Tokenización: title_body\n",
        "title_body_train_tokens = xlnet_tokenizer.batch_encode_plus(title_body_train, max_length = 512, truncation = True, pad_to_max_length = True, return_tensors=\"tf\")\n",
        "title_body_cv_tokens = xlnet_tokenizer.batch_encode_plus(title_body_cv, max_length = 512, truncation = True, pad_to_max_length = True, return_tensors=\"tf\")\n",
        "\n",
        "tb_train_input_ids  = np.array(title_body_train_tokens['input_ids'])\n",
        "tb_train_attn_mask = np.array(title_body_train_tokens['attention_mask'])\n",
        "tb_train_token_typ_ids = np.array(title_body_train_tokens['token_type_ids'])\n",
        "\n",
        "tb_cv_input_ids  = np.array(title_body_cv_tokens['input_ids'])\n",
        "tb_cv_attn_mask = np.array(title_body_cv_tokens['attention_mask'])\n",
        "tb_cv_token_typ_ids = np.array(title_body_cv_tokens['token_type_ids'])\n",
        "\n",
        "print(tb_train_input_ids.shape, tb_train_attn_mask.shape, tb_train_token_typ_ids.shape, tb_cv_input_ids.shape, tb_cv_attn_mask.shape, tb_cv_token_typ_ids.shape)\n",
        "\n",
        "# Tokenización: answer\n",
        "ans_train_tokens = xlnet_tokenizer.batch_encode_plus(answer_train, max_length = 300, truncation = True, pad_to_max_length = True, return_tensors=\"tf\")\n",
        "ans_cv_tokens = xlnet_tokenizer.batch_encode_plus(answer_cv, max_length = 300, truncation = True, pad_to_max_length = True, return_tensors=\"tf\")\n",
        "ans_train_input_ids  = np.array(ans_train_tokens['input_ids'])\n",
        "ans_train_attn_mask = np.array(ans_train_tokens['attention_mask'])\n",
        "ans_train_token_typ_ids = np.array(ans_train_tokens['token_type_ids'])\n",
        "\n",
        "ans_cv_input_ids  = np.array(ans_cv_tokens['input_ids'])\n",
        "ans_cv_attn_mask = np.array(ans_cv_tokens['attention_mask'])\n",
        "ans_cv_token_typ_ids = np.array(ans_cv_tokens['token_type_ids'])\n",
        "seq_len = ans_train_input_ids.shape[1]\n",
        "\n",
        "print(ans_train_input_ids.shape, ans_train_attn_mask.shape, ans_train_token_typ_ids.shape, ans_cv_input_ids.shape, ans_cv_attn_mask.shape, ans_cv_token_typ_ids.shape)"
      ],
      "metadata": {
        "id": "xw0s7sPdUrtS"
      },
      "execution_count": null,
      "outputs": []
    },
    {
      "cell_type": "code",
      "source": [
        "# train : title_body BERT\n",
        "batch_size = 32\n",
        "l = tb_train_input_ids.shape[0]\n",
        "\n",
        "lst1 = []\n",
        "for i in tqdm(range((l//batch_size)+1)):\n",
        "  x = xlnet_model([tb_train_input_ids[i*batch_size:(i+1)*batch_size], tb_train_attn_mask[i*batch_size:(i+1)*batch_size]])[1]\n",
        "\n",
        "# obtener estados ocultos de las últimas 4 capas (promedio de cada paso de tiempo)\n",
        "  lst = [tf.reduce_mean(i, axis = 1) for i in x[-4:]]\n",
        "  conc = tf.concat(lst, axis = 1)\n",
        "  lst1.append(conc)\n",
        "tb_XLNet_train = tf.concat(lst1, axis = 0)\n",
        "print(tb_XLNet_train.shape)\n",
        "\n",
        "# cv : title_body BERT\n",
        "batch_size = 32\n",
        "l = tb_cv_input_ids.shape[0]\n",
        "\n",
        "lst1 = []\n",
        "for i in tqdm(range((l//batch_size)+1)):\n",
        "  x = xlnet_model([tb_cv_input_ids[i*batch_size:(i+1)*batch_size], tb_cv_attn_mask[i*batch_size:(i+1)*batch_size]])[1]\n",
        "\n",
        "# obtener estados ocultos de las últimas 4 capas (promedio de cada paso de tiempo)\n",
        "  lst = [tf.reduce_mean(i, axis = 1) for i in x[-4:]]\n",
        "  # lst = [i[:, 0, :] for i in x[-4:]]\n",
        "  conc = tf.concat(lst, axis = 1)\n",
        "  lst1.append(conc)\n",
        "tb_XLNet_cv = tf.concat(lst1, axis = 0)\n",
        "print(tb_XLNet_cv.shape)"
      ],
      "metadata": {
        "id": "9_MfH2-JU8IT"
      },
      "execution_count": null,
      "outputs": []
    },
    {
      "cell_type": "code",
      "source": [
        "# train : answer BERT\n",
        "batch_size = 32\n",
        "l = ans_train_input_ids.shape[0]\n",
        "\n",
        "lst1 = []\n",
        "for i in tqdm(range((l//batch_size)+1)):\n",
        "  x = xlnet_model([ans_train_input_ids[i*batch_size:(i+1)*batch_size], ans_train_attn_mask[i*batch_size:(i+1)*batch_size]])[1]\n",
        "\n",
        " # obtener estados ocultos de las últimas 4 capas (promedio de cada paso de tiempo)\n",
        "  lst = [tf.reduce_mean(i, axis = 1) for i in x[-4:]]\n",
        "  conc = tf.concat(lst, axis = 1)\n",
        "  lst1.append(conc)\n",
        "ans_XLNet_train = tf.concat(lst1, axis = 0)\n",
        "print(ans_XLNet_train.shape)\n",
        "\n",
        "# cv : answer BERT\n",
        "batch_size = 32\n",
        "l = ans_cv_input_ids.shape[0]\n",
        "lst1 = []\n",
        "for i in tqdm(range((l//batch_size)+1)):\n",
        "  x = xlnet_model([ans_cv_input_ids[i*batch_size:(i+1)*batch_size], ans_cv_attn_mask[i*batch_size:(i+1)*batch_size]])[1]\n",
        "\n",
        "# obtener estados ocultos de las últimas 4 capas (promedio de cada paso de tiempo)\n",
        "  lst = [tf.reduce_mean(i, axis = 1) for i in x[-4:]]\n",
        "  conc = tf.concat(lst, axis = 1)\n",
        "  lst1.append(conc)\n",
        "ans_XLNet_cv = tf.concat(lst1, axis = 0)\n",
        "print(ans_XLNet_cv.shape)"
      ],
      "metadata": {
        "id": "v4gCBja3VVpC"
      },
      "execution_count": null,
      "outputs": []
    },
    {
      "cell_type": "markdown",
      "source": [
        "# Guardando los modelos"
      ],
      "metadata": {
        "id": "vhpAYj8XeAmm"
      }
    },
    {
      "cell_type": "code",
      "source": [
        "np.savez_compressed('/content/drive/My Drive/Deep Learning - Google Quest/bert_outputs', tb_BERT_train = tb_BERT_train.numpy(), tb_BERT_cv = tb_BERT_cv.numpy(),\n",
        "                    ans_BERT_train = ans_BERT_train.numpy(), ans_BERT_cv = ans_BERT_cv.numpy())\n",
        "\n",
        "np.savez_compressed('/content/drive/My Drive/Deep Learning  - Google Quest/use_outputs', tb_USE_train = tb_USE_train, tb_USE_cv = tb_USE_cv,\n",
        "                    ans_USE_train = ans_USE_train, ans_USE_cv = ans_USE_cv)\n",
        "\n",
        "np.savez_compressed('/content/drive/My Drive/Deep Learning  - Google Quest/roberta_outputs', tb_RoBERTa_train = tb_RoBERTa_train.numpy(), tb_RoBERTa_cv = tb_RoBERTa_cv.numpy(),\n",
        "                    ans_RoBERTa_train = ans_RoBERTa_train.numpy(), ans_RoBERTa_cv = ans_RoBERTa_cv.numpy())\n",
        "\n",
        "np.savez_compressed('/content/drive/My Drive/Deep Learning  - Google Quest/xlnet_outputs', tb_XLNet_train = tb_XLNet_train.numpy(), tb_XLNet_cv = tb_XLNet_cv.numpy(),\n",
        "                    ans_XLNet_train = ans_XLNet_train.numpy(), ans_XLNet_cv = ans_XLNet_cv.numpy())"
      ],
      "metadata": {
        "id": "xcNFPvk-VkB1"
      },
      "execution_count": null,
      "outputs": []
    },
    {
      "cell_type": "markdown",
      "source": [
        "# Modelo Final"
      ],
      "metadata": {
        "id": "ngK3Bn-cWZ8a"
      }
    },
    {
      "cell_type": "code",
      "source": [
        "tf.compat.v1.enable_eager_execution()\n",
        "from tensorflow.keras.layers import Input, Dense, Dropout, Concatenate, BatchNormalization\n",
        "from tensorflow.keras.models import Model"
      ],
      "metadata": {
        "id": "7QNWWpa2WUZ4"
      },
      "execution_count": null,
      "outputs": []
    },
    {
      "cell_type": "code",
      "source": [
        "%%time\n",
        "tb_BERT_train = np.load('/content/drive/My Drive/Deep Learning  - Google Quest/bert_outputs.npz')['tb_BERT_train']\n",
        "tb_BERT_cv = np.load('/content/drive/My Drive/Deep Learning  - Google Quest/bert_outputs.npz')['tb_BERT_cv']\n",
        "ans_BERT_train = np.load('/content/drive/My Drive/Deep Learning  - Google Quest/bert_outputs.npz')['ans_BERT_train']\n",
        "ans_BERT_cv = np.load('/content/drive/My Drive/Deep Learning  - Google Quest/bert_outputs.npz')['ans_BERT_cv']\n",
        "\n",
        "tb_USE_train = np.load('/content/drive/My Drive/Deep Learning  - Google Quest/use_outputs.npz')['tb_USE_train']\n",
        "tb_USE_cv = np.load('/content/drive/My Drive/Deep Learning  - Google Quest/use_outputs.npz')['tb_USE_cv']\n",
        "ans_USE_train = np.load('/content/drive/My Drive/Deep Learning  - Google Quest/use_outputs.npz')['ans_USE_train']\n",
        "ans_USE_cv = np.load('/content/drive/My Drive/Deep Learning  - Google Quest/use_outputs.npz')['ans_USE_cv']\n",
        "\n",
        "tb_RoBERTa_train = np.load('/content/drive/My Drive/Deep Learning  - Google Quest/roberta_outputs.npz')['tb_RoBERTa_train']\n",
        "tb_RoBERTa_cv = np.load('/content/drive/My Drive/Deep Learning  - Google Quest/roberta_outputs.npz')['tb_RoBERTa_cv']\n",
        "ans_RoBERTa_train = np.load('/content/drive/My Drive/Deep Learning  - Google Quest/roberta_outputs.npz')['ans_RoBERTa_train']\n",
        "ans_RoBERTa_cv = np.load('/content/drive/My Drive/Deep Learning  - Google Quest/roberta_outputs.npz')['ans_RoBERTa_cv']\n",
        "\n",
        "tb_XLNet_train = np.load('/content/drive/My Drive/AAIC Course/Deep Learning  - Google Quest/xlnet_outputs.npz')['tb_XLNet_train']\n",
        "tb_XLNet_cv = np.load('/content/drive/My Drive/AAIC Course/Deep Learning  - Google Quest/xlnet_outputs.npz')['tb_XLNet_cv']\n",
        "ans_XLNet_train = np.load('/content/drive/My Drive/Deep Learning  - Google Quest/xlnet_outputs.npz')['ans_XLNet_train']\n",
        "ans_XLNet_cv = np.load('/content/drive/My Drive/Deep Learning  - Google Quest/xlnet_outputs.npz')['ans_XLNet_cv']"
      ],
      "metadata": {
        "id": "BCQmGb3LWhGk"
      },
      "execution_count": null,
      "outputs": []
    },
    {
      "cell_type": "code",
      "source": [
        "class block(tf.keras.layers.Layer):\n",
        "  def __init__(self, d1_rate = 0.2, dense_1_units = 1024, d2_rate = 0.2, dense_2_units = 512, d3_rate = 0.1, seed = 42):\n",
        "    super().__init__()\n",
        "    self.d1_rate = d1_rate\n",
        "    self.dense_1_units = dense_1_units\n",
        "    self.d2_rate = d2_rate\n",
        "    self.dense_2_units = dense_2_units\n",
        "    self.d3_rate = d3_rate\n",
        "    self.seed = seed\n",
        "\n",
        "  def build(self, input_shape):\n",
        "    # self.inp = Input(name = 'ans_bert_out', shape = (768*4,), dtype = 'float32')\n",
        "    self.dropout_1 =  Dropout(rate =self.d1_rate, seed = self.seed)\n",
        "\n",
        "    self.dense_1 = Dense(units = self.dense_1_units, activation = 'relu', kernel_initializer = tf.keras.initializers.he_normal(seed = self.seed))\n",
        "    self.dropout_2 = Dropout(rate = self.d2_rate, seed = self.seed)\n",
        "\n",
        "    self.dense_2 = Dense(units = self.dense_2_units, activation = 'relu', kernel_initializer = tf.keras.initializers.he_normal(seed = self.seed))\n",
        "    self.dropout_3 = Dropout(rate = self.d3_rate, seed = self.seed)\n",
        "\n",
        "  def call(self, X):\n",
        "    dropout_1 = self.dropout_1(X)\n",
        "\n",
        "    dense_1 = self.dense_1(dropout_1)\n",
        "    dropout_2 = self.dropout_2(dense_1)\n",
        "\n",
        "    dense_2 = self.dense_2(dropout_2)\n",
        "    dropout_3 = self.dropout_3(dense_2)\n",
        "    return dropout_3"
      ],
      "metadata": {
        "id": "rDbliIaVWlIe"
      },
      "execution_count": null,
      "outputs": []
    },
    {
      "cell_type": "code",
      "source": [
        "tf.keras.backend.clear_session()\n",
        "seed = 42\n",
        "\n",
        "# *-----------------title_body-----------------*\n",
        "tb_bert_input = Input(name = 'tb_bert_out', shape = (768*4,), dtype = 'float32')\n",
        "tb_bert_block = block(d1_rate = 0.2, dense_1_units = 1024, d2_rate = 0.2, dense_2_units = 512, d3_rate = 0.1, seed = 42)(tb_bert_input)\n",
        "tb_bert_out = Dense(units = 21, activation = 'sigmoid', kernel_initializer = tf.keras.initializers.he_normal(seed = seed))(tb_bert_block)\n",
        "\n",
        "tb_use_input = Input(name = 'tb_use_out', shape = (512,), dtype = 'float32')\n",
        "tb_use_block = block(d1_rate = 0.2, dense_1_units = 1024, d2_rate = 0.2, dense_2_units = 512, d3_rate = 0.2, seed = 42)(tb_use_input)\n",
        "tb_use_out = Dense(units = 21, activation = 'sigmoid', kernel_initializer = tf.keras.initializers.he_normal(seed = seed))(tb_use_block)\n",
        "\n",
        "tb_roberta_input = Input(name = 'tb_roberta_out', shape = (768*4,), dtype = 'float32')\n",
        "tb_roberta_block = block(d1_rate = 0.2, dense_1_units = 1024, d2_rate = 0.2, dense_2_units = 512, d3_rate = 0.1, seed = 42)(tb_roberta_input)\n",
        "tb_roberta_out = Dense(units = 21, activation = 'sigmoid', kernel_initializer = tf.keras.initializers.he_normal(seed = seed))(tb_roberta_block)\n",
        "\n",
        "tb_xlnet_input = Input(name = 'tb_xlnet_out', shape = (768*4,), dtype = 'float32')\n",
        "tb_xlnet_block = block(d1_rate = 0.2, dense_1_units = 1024, d2_rate = 0.2, dense_2_units = 512, d3_rate = 0.1, seed = 42)(tb_xlnet_input)\n",
        "tb_xlnet_out = Dense(units = 21, activation = 'sigmoid', kernel_initializer = tf.keras.initializers.he_normal(seed = seed))(tb_xlnet_block)\n",
        "\n",
        "tb_out = tf.reduce_mean([tb_bert_out ,tb_use_out ,tb_roberta_out ,tb_xlnet_out], axis = 0)\n",
        "\n",
        "# *----------------- answer -----------------*\n",
        "ans_bert_input = Input(name = 'ans_bert_out', shape = (768*4,), dtype = 'float32')\n",
        "ans_bert_block = block(d1_rate = 0.2, dense_1_units = 2048, d2_rate = 0.2, dense_2_units = 512, d3_rate = 0.1, seed = 42)(ans_bert_input)\n",
        "ans_bert_out = Dense(units = 9, activation = 'sigmoid', kernel_initializer = tf.keras.initializers.he_normal(seed = seed))(ans_bert_block)\n",
        "\n",
        "ans_use_input = Input(name = 'ans_use_out', shape = (512,), dtype = 'float32')\n",
        "ans_use_concat = tf.concat([tb_use_out, ans_use_input], axis = -1)\n",
        "ans_use_block = block(d1_rate = 0.2, dense_1_units = 1024, d2_rate = 0.2, dense_2_units = 512, d3_rate = 0.2, seed = 42)(ans_use_concat)\n",
        "ans_use_out = Dense(units = 9, activation = 'sigmoid', kernel_initializer = tf.keras.initializers.he_normal(seed = seed))(ans_use_block)\n",
        "\n",
        "ans_roberta_input = Input(name = 'ans_roberta_out', shape = (768*4,), dtype = 'float32')\n",
        "ans_roberta_concat = tf.concat([tb_roberta_out, ans_roberta_input], axis = -1)\n",
        "ans_roberta_block = block(d1_rate = 0.2, dense_1_units = 1024, d2_rate = 0.2, dense_2_units = 512, d3_rate = 0.1, seed = 42)(ans_roberta_concat)\n",
        "ans_roberta_out = Dense(units = 9, activation = 'sigmoid', kernel_initializer = tf.keras.initializers.he_normal(seed = seed))(ans_roberta_block)\n",
        "\n",
        "ans_xlnet_input = Input(name = 'ans_xlnet_out', shape = (768*4,), dtype = 'float32')\n",
        "ans_xlnet_block = block(d1_rate = 0.2, dense_1_units = 1024, d2_rate = 0.2, dense_2_units = 512, d3_rate = 0.1,  seed = 42)(ans_xlnet_input)\n",
        "ans_xlnet_out = Dense(units = 9, activation = 'sigmoid', kernel_initializer = tf.keras.initializers.he_normal(seed = seed))(ans_xlnet_block)\n",
        "\n",
        "ans_out = tf.reduce_mean([ans_bert_out ,ans_use_out ,ans_roberta_out ,ans_xlnet_out], axis = 0)\n",
        "\n",
        "# *----------------- concat -----------------*\n",
        "out =  Concatenate(axis = -1)([tb_out, ans_out])\n",
        "\n",
        "model = Model(inputs = [tb_bert_input, tb_use_input, tb_roberta_input, tb_xlnet_input, ans_bert_input, ans_use_input, ans_roberta_input, ans_xlnet_input], outputs = out)\n",
        "model.summary()"
      ],
      "metadata": {
        "id": "DHp0rXUtWngJ"
      },
      "execution_count": null,
      "outputs": []
    },
    {
      "cell_type": "code",
      "source": [
        "# Posprocesamiento: binning\n",
        "def return_bins(arr):\n",
        "  val = np.unique(arr)\n",
        "  bins = []\n",
        "  for i in range(len(val)):\n",
        "    if i > 0:\n",
        "      bins.append((val[i-1] + val[i])/2)\n",
        "  return bins\n",
        "\n",
        "unique_val_30 = [np.unique(train[tar_features].values[:, i]) for i in range(30)]\n",
        "bins_30 = [return_bins(train[tar_features].values[:, i]) for i in range(30)]\n",
        "\n",
        "def binned_out(y_pred):\n",
        "  col = y_pred.shape[1]\n",
        "  final_pred = np.zeros(y_pred.shape)\n",
        "  for i in range(col):\n",
        "    idx = np.digitize(y_pred[:, i], bins_30[i])\n",
        "    final_pred[:, i] = unique_val_30[i][idx]\n",
        "  return final_pred"
      ],
      "metadata": {
        "id": "SqsshIYpWtxr"
      },
      "execution_count": null,
      "outputs": []
    },
    {
      "cell_type": "code",
      "source": [
        "# Definición callbacks\n",
        "!rm -r '/content/saved models'\n",
        "!rm -r '/content/logs'\n",
        "!mkdir '/content/saved models'\n",
        "!mkdir '/content/logs/'\n",
        "\n",
        "# tensorboard callback\n",
        "import datetime\n",
        "log_dir=\"logs/\" + datetime.datetime.now().strftime(\"%Y-%m-%d %H_%M_%S\")\n",
        "tensorboard_callback = tf.keras.callbacks.TensorBoard(log_dir = log_dir, histogram_freq=1, write_graph=True, write_grads=True)\n",
        "\n",
        "# spearman funcion\n",
        "from scipy.stats import pearsonr, spearmanr\n",
        "def compute_spearman(y_true, y_pred, final_pred):\n",
        "  col = y_true.shape[1]\n",
        "  lst = []\n",
        "  for i in range(col):\n",
        "    p = round(spearmanr(y_true[:, i], final_pred[:, i])[0], 5)\n",
        "    p = round(p, 5)\n",
        "    lst.append(p)\n",
        "  return np.array(lst), round(np.nanmean(lst), 5)\n",
        "\n",
        "# # Métrica spearman personalizada\n",
        "class print_spearman(tf.keras.callbacks.Callback):\n",
        "    def __init__(self, train_data, validation_data):\n",
        "        super(tf.keras.callbacks.Callback, self).__init__()\n",
        "        self.x, self.y = train_data\n",
        "        self.val_x, self.val_y = validation_data\n",
        "\n",
        "    def on_train_begin(self, logs={}):\n",
        "        self.all_feat_spearman = []\n",
        "        self.spearman_dict = {'train_spearman' :[], 'val_spearman' :[]}\n",
        "\n",
        "    def on_epoch_end(self, epoch, logs={}):\n",
        "        self.epoch = epoch\n",
        "\n",
        "        #  Test_set evaluación\n",
        "        print('\\nspearman :')\n",
        "        y_pred = self.model.predict(x = self.x)\n",
        "        y_pred_val = self.model.predict(x = self.val_x)\n",
        "\n",
        "        final_pred = binned_out(y_pred)\n",
        "        final_pred_val = binned_out(y_pred_val)\n",
        "\n",
        "        train_spear_lst, train_spearman = compute_spearman(self.y, y_pred, final_pred)\n",
        "        val_spear_lst, val_spearman = compute_spearman(self.val_y, y_pred_val, final_pred_val)\n",
        "\n",
        "        self.all_feat_spearman.append({'train_spearman' : train_spear_lst, 'val_spearman' : val_spear_lst})\n",
        "\n",
        "        self.spearman_dict['train_spearman'].append(train_spearman)\n",
        "        self.spearman_dict['val_spearman'].append(val_spearman)\n",
        "        prev_epoch_lr  = tf.keras.backend.eval(self.model.optimizer.lr)\n",
        "        print(\"train_spearman : {} | val_spearman : {} | Learning_Rate : {}\".format(train_spearman, val_spearman, round(prev_epoch_lr, 6)))\n",
        "        print('train_spear_lst : ', train_spear_lst, '\\n' 'val_spear_lst :', val_spear_lst)\n",
        "\n",
        "reduce_lr = tf.keras.callbacks.ReduceLROnPlateau(monitor= 'val_loss', factor=np.sqrt(0.1), patience=7, verbose=1)\n",
        "\n",
        "checkpt = tf.keras.callbacks.ModelCheckpoint('/content/saved models/weights-{epoch:03d}-{val_loss:.5f}.hdf5', monitor='val_loss', verbose=1, save_best_only=False, save_weights_only=True)\n",
        "\n",
        "print_spearman_fn = print_spearman(train_data = ([tb_BERT_train, tb_USE_train, tb_RoBERTa_train, tb_XLNet_train, ans_BERT_train, ans_USE_train, ans_RoBERTa_train, ans_XLNet_train],\n",
        "                                                 y_train.values),\n",
        "                                 validation_data = ([tb_BERT_cv, tb_USE_cv, tb_RoBERTa_cv, tb_XLNet_cv, ans_BERT_cv, ans_USE_cv, ans_RoBERTa_cv, ans_XLNet_cv],\n",
        "                                                    y_cv.values))\n",
        "callbacks = [print_spearman_fn, reduce_lr, checkpt, tensorboard_callback]"
      ],
      "metadata": {
        "id": "lo91AJWVWvK8"
      },
      "execution_count": null,
      "outputs": []
    },
    {
      "cell_type": "code",
      "source": [
        "# best_model : entrenamiento de un modelo\n",
        "tf.keras.backend.clear_session()\n",
        "opt = tf.keras.optimizers.Adam(learning_rate = 0.00008)\n",
        "rmse = tf.keras.metrics.RootMeanSquaredError()\n",
        "\n",
        "model.compile(loss = 'binary_crossentropy', optimizer = opt,  metrics = [rmse])\n",
        "history = model.fit(x = [tb_BERT_train, tb_USE_train, tb_RoBERTa_train, tb_XLNet_train, ans_BERT_train, ans_USE_train, ans_RoBERTa_train, ans_XLNet_train],\n",
        "                    y =  y_train.values,\n",
        "                    validation_data = ([tb_BERT_cv, tb_USE_cv, tb_RoBERTa_cv, tb_XLNet_cv, ans_BERT_cv, ans_USE_cv, ans_RoBERTa_cv, ans_XLNet_cv],\n",
        "                                       y_cv.values),\n",
        "                    batch_size = 64, epochs = 60, callbacks = callbacks)"
      ],
      "metadata": {
        "id": "UCw0NdaiW1-q"
      },
      "execution_count": null,
      "outputs": []
    },
    {
      "cell_type": "code",
      "source": [
        "# best_results : (val_spearman, epoch_no)\n",
        "max(print_spearman_fn.spearman_dict['val_spearman']), np.argmax(print_spearman_fn.spearman_dict['val_spearman'])"
      ],
      "metadata": {
        "id": "hLG53vBEW3BM"
      },
      "execution_count": null,
      "outputs": []
    },
    {
      "cell_type": "code",
      "source": [
        "# guardando el mejor modelo\n",
        "!cp '/content/saved models/weights.-029-0.37055.data-00000-of-00001' '/content/drive/My Drive/AAIC Course/Personal case study 2  - Google Quest/'\n",
        "!cp '/content/saved models/weights.-029-0.37055.index' '/content/drive/My Drive/AAIC Course/Personal case study 2  - Google Quest/'"
      ],
      "metadata": {
        "id": "AoMF1kjcW9cl"
      },
      "execution_count": null,
      "outputs": []
    },
    {
      "cell_type": "code",
      "source": [
        "model.load_weights('/content/saved models/weights.-029-0.37055')"
      ],
      "metadata": {
        "id": "VxHZQD7VXD3Q"
      },
      "execution_count": null,
      "outputs": []
    },
    {
      "cell_type": "code",
      "source": [
        "%load_ext tensorboard\n",
        "%tensorboard --logdir /content/logs/"
      ],
      "metadata": {
        "id": "umloRjH1XF2V"
      },
      "execution_count": null,
      "outputs": []
    },
    {
      "cell_type": "markdown",
      "source": [
        "# Analisis del Error"
      ],
      "metadata": {
        "id": "8aErDUDcXL6T"
      }
    },
    {
      "cell_type": "code",
      "source": [
        "train_spear_lst, val_spear_lst = print_spearman_fn.all_feat_spearman[30]['train_spearman'], print_spearman_fn.all_feat_spearman[30]['val_spearman']\n",
        "train_spear_lst[np.isnan(train_spear_lst)] = 0.0\n",
        "val_spear_lst[np.isnan(val_spear_lst)] = 0.0\n",
        "\n",
        "print('train_spear_lst :', train_spear_lst, '\\n\\nval_spear_lst :', val_spear_lst)"
      ],
      "metadata": {
        "id": "71NX3CLTXIDI"
      },
      "execution_count": null,
      "outputs": []
    },
    {
      "cell_type": "code",
      "source": [
        "# Diferencia entre baseline_val_spearman y el modelo actual val_spearman\n",
        "baseline_val_spear = np.array([0.27277, 0.5568 , 0.45952, 0.21   , 0.28364, 0.40028, 0.2506 , 0.44999, 0.43819,\n",
        " 0.04555, 0.35599, 0.6036 , 0.55155, 0.0979 , 0.50172, 0.45533, 0.74697, 0.21801,\n",
        " 0.53282, 0.03014, 0.49008, 0.24314, 0.28342, 0.08022, 0.184  , 0.29888, 0.64717,\n",
        " 0.13953, 0.53439, 0.10737])\n",
        "print('featurewise change :', val_spear_lst - baseline_val_spear)"
      ],
      "metadata": {
        "id": "QmMErT1FXHod"
      },
      "execution_count": null,
      "outputs": []
    },
    {
      "cell_type": "code",
      "source": [
        "# gráfico de Spearman para cada característica:\n",
        "plt.figure(figsize = (16, 8))\n",
        "plt.plot(train_spear_lst, 'o')\n",
        "plt.plot(val_spear_lst, 'o')\n",
        "plt.plot(train_spear_lst, label = 'train_spearman')\n",
        "plt.plot(val_spear_lst, label = 'val_spearman')\n",
        "plt.grid()\n",
        "plt.legend()\n",
        "plt.xticks(ticks = range(30), labels = range(1, 31))\n",
        "plt.yticks(ticks = np.arange(0, 1.1, 0.1), labels =  np.arange(0, 1.1, 0.1, dtype = np.float32))\n",
        "plt.show()"
      ],
      "metadata": {
        "id": "nRM7MfPwXeU6"
      },
      "execution_count": null,
      "outputs": []
    },
    {
      "cell_type": "code",
      "source": [
        "# Calculo de val_spearman con la mejor y la peor característica (el umbral es val_spearman > 0,20 = buena característica objetivo)\n",
        "below_20_idx = [i for i in range(len(val_spear_lst)) if val_spear_lst[i] < 0.2]\n",
        "above_20_idx = [i for i in range(30)]\n",
        "for i in below_20_idx:\n",
        "  above_20_idx.remove(i)\n",
        "\n",
        "print('mean spearman for best target features :', np.mean(val_spear_lst[above_20_idx]), '\\nmean spearman for worst target features :', np.mean(val_spear_lst[below_20_idx]))"
      ],
      "metadata": {
        "id": "96NNNVHSX3y7"
      },
      "execution_count": null,
      "outputs": []
    },
    {
      "cell_type": "code",
      "source": [
        "# Nombres de características objetivo de buen y mal desempeño\n",
        "print('best target features :', np.array(tar_features)[above_20_idx], '\\n\\nworst target features :', np.array(tar_features)[below_20_idx])"
      ],
      "metadata": {
        "id": "6-Ywg3maYEna"
      },
      "execution_count": null,
      "outputs": []
    },
    {
      "cell_type": "markdown",
      "source": [
        "**¿Por qué estas características no funcionan bien?**\n",
        "\n",
        "\n"
      ],
      "metadata": {
        "id": "5nm3f8oTY0Na"
      }
    },
    {
      "cell_type": "code",
      "source": [
        "# -> 1. basics\n",
        "train[np.array(tar_features)[below_20_idx]].describe()"
      ],
      "metadata": {
        "id": "YfxDZYM8YNMN"
      },
      "execution_count": null,
      "outputs": []
    },
    {
      "cell_type": "code",
      "source": [
        "# -> 2. pdfs\n",
        "plt.figure(figsize = (30, 11))\n",
        "for i in range(6):\n",
        "  plt.subplot(2, 3, i+1)\n",
        "  column = np.array(tar_features)[below_20_idx][i]\n",
        "  sns.distplot(train[column].values, hist = True, kde=True)\n",
        "\n",
        "  plt.xlabel(column)\n",
        "  plt.ylabel('count')\n",
        "  plt.grid()\n",
        "plt.show()"
      ],
      "metadata": {
        "id": "xjzLbMoYYWZP"
      },
      "execution_count": null,
      "outputs": []
    },
    {
      "cell_type": "code",
      "source": [
        "# 3. -> bins\n",
        "for i in np.array(tar_features)[below_20_idx]:\n",
        "  print(train[i].value_counts(), '\\n')"
      ],
      "metadata": {
        "id": "pP27y1XKYbQP"
      },
      "execution_count": null,
      "outputs": []
    },
    {
      "cell_type": "markdown",
      "source": [
        "**¿Por qué estas características funcionan bien?**"
      ],
      "metadata": {
        "id": "0CFAxYDcZHfQ"
      }
    },
    {
      "cell_type": "code",
      "source": [
        "# top 6 caracteristicas\n",
        "top_06_idx = np.argsort(val_spear_lst)[-6:]\n",
        "\n",
        "# nombres de las 6 características principales características objetivo\n",
        "print('top_6 target features :', np.array(tar_features)[top_06_idx])"
      ],
      "metadata": {
        "id": "U4m1T995ZsRM"
      },
      "execution_count": null,
      "outputs": []
    },
    {
      "cell_type": "code",
      "source": [
        "# -> 1. basics\n",
        "train[np.array(tar_features)[top_06_idx]].describe()"
      ],
      "metadata": {
        "id": "TyGDUABlZd5J"
      },
      "execution_count": null,
      "outputs": []
    },
    {
      "cell_type": "code",
      "source": [
        "# -> 2. pdfs\n",
        "plt.figure(figsize = (30, 11))\n",
        "for i in range(6):\n",
        "  plt.subplot(2, 3, i+1)\n",
        "  column = np.array(tar_features)[top_06_idx][i]\n",
        "  sns.distplot(train[column].values, hist = True, kde=True)\n",
        "\n",
        "  plt.xlabel(column)\n",
        "  plt.ylabel('count')\n",
        "  plt.grid()\n",
        "plt.show()"
      ],
      "metadata": {
        "id": "Dpof-DvDZgN9"
      },
      "execution_count": null,
      "outputs": []
    },
    {
      "cell_type": "code",
      "source": [
        "# 3. -> bins\n",
        "for i in np.array(tar_features)[top_06_idx]:\n",
        "  print(train[i].value_counts(), '\\n')"
      ],
      "metadata": {
        "id": "aiUIbM4-ZhWP"
      },
      "execution_count": null,
      "outputs": []
    },
    {
      "cell_type": "markdown",
      "source": [
        "**¿Cuáles son los tipos de puntos de datos que dan las mejores y peores predicciones?**"
      ],
      "metadata": {
        "id": "f_GxdnhgaEX9"
      }
    },
    {
      "cell_type": "code",
      "source": [
        "y_pred_val = model.predict([tb_BERT_cv, tb_USE_cv, tb_RoBERTa_cv, tb_XLNet_cv, ans_BERT_cv, ans_USE_cv, ans_RoBERTa_cv, ans_XLNet_cv]) # cv_prediction\n",
        "final_pred_val = binned_out(y_pred_val) # agrupando la salida del modelo\n",
        "\n",
        "# Calcular el número de ceros en cada predicción de punto de datos\n",
        "zero_lst = []\n",
        "for i in range(len(y_cv)):\n",
        "  zero_lst.append(len(np.where((y_cv.values - final_pred_val)[i] == 0.0)[0]))"
      ],
      "metadata": {
        "id": "Cv1jeUFqaGl3"
      },
      "execution_count": null,
      "outputs": []
    },
    {
      "cell_type": "code",
      "source": [
        "# 1. basics\n",
        "pd.DataFrame({'zero_lst' : zero_lst}).describe()"
      ],
      "metadata": {
        "id": "i7owIEJQaJ76"
      },
      "execution_count": null,
      "outputs": []
    },
    {
      "cell_type": "code",
      "source": [
        "# 2. mejores y peores puntos de datos\n",
        "top_10_dp_idx = np.argsort(zero_lst)[-10:][::-1]\n",
        "bottom_10_dp_idx = np.argsort(zero_lst)[:10]\n",
        "\n",
        "print('best_10 title_body :', np.array(title_body_cv)[top_10_dp_idx], '\\n')\n",
        "print('worst_10 title_body :', np.array(title_body_cv)[bottom_10_dp_idx], '\\n')\n",
        "print('best_10 answer :', np.array(answer_cv)[top_10_dp_idx], '\\n')\n",
        "print('worst_10 answer :', np.array(answer_cv)[bottom_10_dp_idx], '\\n')"
      ],
      "metadata": {
        "id": "MdOj8xJJaNBf"
      },
      "execution_count": null,
      "outputs": []
    },
    {
      "cell_type": "code",
      "source": [
        "# 3. Comprobación de la longitud de las palabras de los mejores y peores puntos de datos\n",
        "print('best_10 title_body :', [len(i.split(' ')) for i in np.array(title_body_cv)[top_10_dp_idx]])\n",
        "print('worst_10 title_body :', [len(i.split(' ')) for i in np.array(title_body_cv)[bottom_10_dp_idx]])\n",
        "print('best_10 answer :',  [len(i.split(' ')) for i in np.array(answer_cv)[top_10_dp_idx]])\n",
        "print('worst_10 answer :',  [len(i.split(' ')) for i in np.array(answer_cv)[bottom_10_dp_idx]])"
      ],
      "metadata": {
        "id": "5YUpmJd-ahir"
      },
      "execution_count": null,
      "outputs": []
    },
    {
      "cell_type": "markdown",
      "source": [
        "# **Resultado Final**"
      ],
      "metadata": {
        "id": "ZRRFbUAkatWn"
      }
    },
    {
      "cell_type": "code",
      "source": [
        "from prettytable import PrettyTable\n",
        "x = PrettyTable()\n",
        "\n",
        "x.field_names = [\"Model\", \"train_spearman\", \"val_spearman\"]\n",
        "x.add_row([\"baseline_LSTM\", 0.4995, 0.34899])\n",
        "x.add_row([\"BERT\", 0.50081, 0.39536])\n",
        "x.add_row([\"USE\",  0.52245, 0.4366])\n",
        "x.add_row([\"RoBERTa\", 0.48059, 0.41772])\n",
        "x.add_row([\"XLNet\", 0.52237, 0.37525])\n",
        "x.add_row([\"BERT_USE_RoBERTa_XLNet\", 0.5068, 0.43924])\n",
        "\n",
        "print(x)"
      ],
      "metadata": {
        "id": "deBKtAs9asfU"
      },
      "execution_count": null,
      "outputs": []
    }
  ]
}
